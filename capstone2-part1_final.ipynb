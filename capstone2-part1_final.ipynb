{
 "cells": [
  {
   "cell_type": "markdown",
   "metadata": {},
   "source": [
    "**Contents\n",
    "\n",
    "1. Importing libraries\n",
    "2. Data wrangling and EDA\n",
    "3. Feature aggregation and prepare data for modeling\n",
    "4. Setting up models and evaluation metrics \n",
    "A. Linear Regressor \n",
    "B. Ridge Regressor \n",
    "C. Lasso Regressor \n",
    "D. SVM Linear Regressor \n",
    "E. SVM Polynomial Regressor\n",
    "F. Decision Tree Regressor\n",
    "G. Random Forest Regressor\n",
    "H. Adaboost Regressor\n",
    "I. Neural Networks\n",
    "5. Selecting modesl and fine_tuning hyperparameters\n",
    "6. Evaluate final models on test set\n",
    "7. Result and feature importance analysis\n",
    "8. Reference"
   ]
  },
  {
   "cell_type": "markdown",
   "metadata": {},
   "source": [
    "1. Importing libraries"
   ]
  },
  {
   "cell_type": "code",
   "execution_count": 3,
   "metadata": {},
   "outputs": [],
   "source": [
    "import pandas as pd\n",
    "import numpy as np\n",
    "import matplotlib.pylab as plt\n",
    "import seaborn as sns\n",
    "from collections import Counter,OrderedDict,defaultdict\n",
    "import itertools\n",
    "\n",
    "\n",
    "\n",
    "from sklearn.preprocessing import StandardScaler, OneHotEncoder\n",
    "from sklearn.compose import ColumnTransformer\n",
    "\n",
    "from sklearn.linear_model import LinearRegression, Ridge, Lasso\n",
    "from sklearn.preprocessing import PolynomialFeatures\n",
    "from sklearn.svm import LinearSVR, SVR\n",
    "from sklearn.tree import DecisionTreeRegressor\n",
    "from sklearn.ensemble import RandomForestRegressor,AdaBoostRegressor\n",
    "\n",
    "\n",
    "from keras.models import Sequential\n",
    "from keras.layers import Dense\n",
    "from keras.wrappers.scikit_learn import KerasRegressor\n",
    "from sklearn.model_selection import cross_val_score,GridSearchCV,RandomizedSearchCV\n",
    "from sklearn.model_selection import KFold\n",
    "from sklearn.preprocessing import StandardScaler\n",
    "from sklearn.pipeline import Pipeline\n",
    "from keras.models import Sequential\n",
    "from keras.layers import Dense\n",
    "from keras.wrappers.scikit_learn import KerasRegressor\n",
    "from keras.layers import Dropout\n",
    "from keras.optimizers import SGD\n",
    "\n",
    "\n",
    "\n",
    "from sklearn.model_selection import cross_val_score\n",
    "from sklearn.metrics import mean_squared_error, r2_score\n",
    "%matplotlib inline\n",
    "\n",
    "import warnings\n",
    "warnings.filterwarnings(\"ignore\")\n"
   ]
  },
  {
   "cell_type": "markdown",
   "metadata": {},
   "source": [
    "2. Data wrangling and EDA\n",
    "The project datasets are from Kaggle M5 Walmart cometition:\n",
    "https://www.kaggle.com/c/m5-forecasting-accuracy/overview\n",
    "\n",
    "After talking with my mentor, we agreed that I just do the annual sales number forecast rather than the daily sales forecast because of my limited knowledge in time series right now."
   ]
  },
  {
   "cell_type": "code",
   "execution_count": 4,
   "metadata": {},
   "outputs": [
    {
     "data": {
      "text/html": [
       "<div>\n",
       "<style scoped>\n",
       "    .dataframe tbody tr th:only-of-type {\n",
       "        vertical-align: middle;\n",
       "    }\n",
       "\n",
       "    .dataframe tbody tr th {\n",
       "        vertical-align: top;\n",
       "    }\n",
       "\n",
       "    .dataframe thead th {\n",
       "        text-align: right;\n",
       "    }\n",
       "</style>\n",
       "<table border=\"1\" class=\"dataframe\">\n",
       "  <thead>\n",
       "    <tr style=\"text-align: right;\">\n",
       "      <th></th>\n",
       "      <th>id</th>\n",
       "      <th>item_id</th>\n",
       "      <th>dept_id</th>\n",
       "      <th>cat_id</th>\n",
       "      <th>store_id</th>\n",
       "      <th>state_id</th>\n",
       "      <th>d_1</th>\n",
       "      <th>d_2</th>\n",
       "      <th>d_3</th>\n",
       "      <th>d_4</th>\n",
       "      <th>...</th>\n",
       "      <th>d_1932</th>\n",
       "      <th>d_1933</th>\n",
       "      <th>d_1934</th>\n",
       "      <th>d_1935</th>\n",
       "      <th>d_1936</th>\n",
       "      <th>d_1937</th>\n",
       "      <th>d_1938</th>\n",
       "      <th>d_1939</th>\n",
       "      <th>d_1940</th>\n",
       "      <th>d_1941</th>\n",
       "    </tr>\n",
       "  </thead>\n",
       "  <tbody>\n",
       "    <tr>\n",
       "      <td>0</td>\n",
       "      <td>HOBBIES_1_001_CA_1_evaluation</td>\n",
       "      <td>HOBBIES_1_001</td>\n",
       "      <td>HOBBIES_1</td>\n",
       "      <td>HOBBIES</td>\n",
       "      <td>CA_1</td>\n",
       "      <td>CA</td>\n",
       "      <td>0</td>\n",
       "      <td>0</td>\n",
       "      <td>0</td>\n",
       "      <td>0</td>\n",
       "      <td>...</td>\n",
       "      <td>2</td>\n",
       "      <td>4</td>\n",
       "      <td>0</td>\n",
       "      <td>0</td>\n",
       "      <td>0</td>\n",
       "      <td>0</td>\n",
       "      <td>3</td>\n",
       "      <td>3</td>\n",
       "      <td>0</td>\n",
       "      <td>1</td>\n",
       "    </tr>\n",
       "    <tr>\n",
       "      <td>1</td>\n",
       "      <td>HOBBIES_1_002_CA_1_evaluation</td>\n",
       "      <td>HOBBIES_1_002</td>\n",
       "      <td>HOBBIES_1</td>\n",
       "      <td>HOBBIES</td>\n",
       "      <td>CA_1</td>\n",
       "      <td>CA</td>\n",
       "      <td>0</td>\n",
       "      <td>0</td>\n",
       "      <td>0</td>\n",
       "      <td>0</td>\n",
       "      <td>...</td>\n",
       "      <td>0</td>\n",
       "      <td>1</td>\n",
       "      <td>2</td>\n",
       "      <td>1</td>\n",
       "      <td>1</td>\n",
       "      <td>0</td>\n",
       "      <td>0</td>\n",
       "      <td>0</td>\n",
       "      <td>0</td>\n",
       "      <td>0</td>\n",
       "    </tr>\n",
       "    <tr>\n",
       "      <td>2</td>\n",
       "      <td>HOBBIES_1_003_CA_1_evaluation</td>\n",
       "      <td>HOBBIES_1_003</td>\n",
       "      <td>HOBBIES_1</td>\n",
       "      <td>HOBBIES</td>\n",
       "      <td>CA_1</td>\n",
       "      <td>CA</td>\n",
       "      <td>0</td>\n",
       "      <td>0</td>\n",
       "      <td>0</td>\n",
       "      <td>0</td>\n",
       "      <td>...</td>\n",
       "      <td>1</td>\n",
       "      <td>0</td>\n",
       "      <td>2</td>\n",
       "      <td>0</td>\n",
       "      <td>0</td>\n",
       "      <td>0</td>\n",
       "      <td>2</td>\n",
       "      <td>3</td>\n",
       "      <td>0</td>\n",
       "      <td>1</td>\n",
       "    </tr>\n",
       "    <tr>\n",
       "      <td>3</td>\n",
       "      <td>HOBBIES_1_004_CA_1_evaluation</td>\n",
       "      <td>HOBBIES_1_004</td>\n",
       "      <td>HOBBIES_1</td>\n",
       "      <td>HOBBIES</td>\n",
       "      <td>CA_1</td>\n",
       "      <td>CA</td>\n",
       "      <td>0</td>\n",
       "      <td>0</td>\n",
       "      <td>0</td>\n",
       "      <td>0</td>\n",
       "      <td>...</td>\n",
       "      <td>1</td>\n",
       "      <td>1</td>\n",
       "      <td>0</td>\n",
       "      <td>4</td>\n",
       "      <td>0</td>\n",
       "      <td>1</td>\n",
       "      <td>3</td>\n",
       "      <td>0</td>\n",
       "      <td>2</td>\n",
       "      <td>6</td>\n",
       "    </tr>\n",
       "    <tr>\n",
       "      <td>4</td>\n",
       "      <td>HOBBIES_1_005_CA_1_evaluation</td>\n",
       "      <td>HOBBIES_1_005</td>\n",
       "      <td>HOBBIES_1</td>\n",
       "      <td>HOBBIES</td>\n",
       "      <td>CA_1</td>\n",
       "      <td>CA</td>\n",
       "      <td>0</td>\n",
       "      <td>0</td>\n",
       "      <td>0</td>\n",
       "      <td>0</td>\n",
       "      <td>...</td>\n",
       "      <td>0</td>\n",
       "      <td>0</td>\n",
       "      <td>0</td>\n",
       "      <td>2</td>\n",
       "      <td>1</td>\n",
       "      <td>0</td>\n",
       "      <td>0</td>\n",
       "      <td>2</td>\n",
       "      <td>1</td>\n",
       "      <td>0</td>\n",
       "    </tr>\n",
       "    <tr>\n",
       "      <td>...</td>\n",
       "      <td>...</td>\n",
       "      <td>...</td>\n",
       "      <td>...</td>\n",
       "      <td>...</td>\n",
       "      <td>...</td>\n",
       "      <td>...</td>\n",
       "      <td>...</td>\n",
       "      <td>...</td>\n",
       "      <td>...</td>\n",
       "      <td>...</td>\n",
       "      <td>...</td>\n",
       "      <td>...</td>\n",
       "      <td>...</td>\n",
       "      <td>...</td>\n",
       "      <td>...</td>\n",
       "      <td>...</td>\n",
       "      <td>...</td>\n",
       "      <td>...</td>\n",
       "      <td>...</td>\n",
       "      <td>...</td>\n",
       "      <td>...</td>\n",
       "    </tr>\n",
       "    <tr>\n",
       "      <td>30485</td>\n",
       "      <td>FOODS_3_823_WI_3_evaluation</td>\n",
       "      <td>FOODS_3_823</td>\n",
       "      <td>FOODS_3</td>\n",
       "      <td>FOODS</td>\n",
       "      <td>WI_3</td>\n",
       "      <td>WI</td>\n",
       "      <td>0</td>\n",
       "      <td>0</td>\n",
       "      <td>2</td>\n",
       "      <td>2</td>\n",
       "      <td>...</td>\n",
       "      <td>1</td>\n",
       "      <td>0</td>\n",
       "      <td>3</td>\n",
       "      <td>0</td>\n",
       "      <td>1</td>\n",
       "      <td>1</td>\n",
       "      <td>0</td>\n",
       "      <td>0</td>\n",
       "      <td>1</td>\n",
       "      <td>1</td>\n",
       "    </tr>\n",
       "    <tr>\n",
       "      <td>30486</td>\n",
       "      <td>FOODS_3_824_WI_3_evaluation</td>\n",
       "      <td>FOODS_3_824</td>\n",
       "      <td>FOODS_3</td>\n",
       "      <td>FOODS</td>\n",
       "      <td>WI_3</td>\n",
       "      <td>WI</td>\n",
       "      <td>0</td>\n",
       "      <td>0</td>\n",
       "      <td>0</td>\n",
       "      <td>0</td>\n",
       "      <td>...</td>\n",
       "      <td>0</td>\n",
       "      <td>0</td>\n",
       "      <td>0</td>\n",
       "      <td>0</td>\n",
       "      <td>0</td>\n",
       "      <td>0</td>\n",
       "      <td>1</td>\n",
       "      <td>0</td>\n",
       "      <td>1</td>\n",
       "      <td>0</td>\n",
       "    </tr>\n",
       "    <tr>\n",
       "      <td>30487</td>\n",
       "      <td>FOODS_3_825_WI_3_evaluation</td>\n",
       "      <td>FOODS_3_825</td>\n",
       "      <td>FOODS_3</td>\n",
       "      <td>FOODS</td>\n",
       "      <td>WI_3</td>\n",
       "      <td>WI</td>\n",
       "      <td>0</td>\n",
       "      <td>6</td>\n",
       "      <td>0</td>\n",
       "      <td>2</td>\n",
       "      <td>...</td>\n",
       "      <td>0</td>\n",
       "      <td>0</td>\n",
       "      <td>1</td>\n",
       "      <td>2</td>\n",
       "      <td>0</td>\n",
       "      <td>1</td>\n",
       "      <td>0</td>\n",
       "      <td>1</td>\n",
       "      <td>0</td>\n",
       "      <td>2</td>\n",
       "    </tr>\n",
       "    <tr>\n",
       "      <td>30488</td>\n",
       "      <td>FOODS_3_826_WI_3_evaluation</td>\n",
       "      <td>FOODS_3_826</td>\n",
       "      <td>FOODS_3</td>\n",
       "      <td>FOODS</td>\n",
       "      <td>WI_3</td>\n",
       "      <td>WI</td>\n",
       "      <td>0</td>\n",
       "      <td>0</td>\n",
       "      <td>0</td>\n",
       "      <td>0</td>\n",
       "      <td>...</td>\n",
       "      <td>1</td>\n",
       "      <td>1</td>\n",
       "      <td>1</td>\n",
       "      <td>4</td>\n",
       "      <td>6</td>\n",
       "      <td>0</td>\n",
       "      <td>1</td>\n",
       "      <td>1</td>\n",
       "      <td>1</td>\n",
       "      <td>0</td>\n",
       "    </tr>\n",
       "    <tr>\n",
       "      <td>30489</td>\n",
       "      <td>FOODS_3_827_WI_3_evaluation</td>\n",
       "      <td>FOODS_3_827</td>\n",
       "      <td>FOODS_3</td>\n",
       "      <td>FOODS</td>\n",
       "      <td>WI_3</td>\n",
       "      <td>WI</td>\n",
       "      <td>0</td>\n",
       "      <td>0</td>\n",
       "      <td>0</td>\n",
       "      <td>0</td>\n",
       "      <td>...</td>\n",
       "      <td>1</td>\n",
       "      <td>2</td>\n",
       "      <td>0</td>\n",
       "      <td>5</td>\n",
       "      <td>4</td>\n",
       "      <td>0</td>\n",
       "      <td>2</td>\n",
       "      <td>2</td>\n",
       "      <td>5</td>\n",
       "      <td>1</td>\n",
       "    </tr>\n",
       "  </tbody>\n",
       "</table>\n",
       "<p>30490 rows × 1947 columns</p>\n",
       "</div>"
      ],
      "text/plain": [
       "                                  id        item_id    dept_id   cat_id  \\\n",
       "0      HOBBIES_1_001_CA_1_evaluation  HOBBIES_1_001  HOBBIES_1  HOBBIES   \n",
       "1      HOBBIES_1_002_CA_1_evaluation  HOBBIES_1_002  HOBBIES_1  HOBBIES   \n",
       "2      HOBBIES_1_003_CA_1_evaluation  HOBBIES_1_003  HOBBIES_1  HOBBIES   \n",
       "3      HOBBIES_1_004_CA_1_evaluation  HOBBIES_1_004  HOBBIES_1  HOBBIES   \n",
       "4      HOBBIES_1_005_CA_1_evaluation  HOBBIES_1_005  HOBBIES_1  HOBBIES   \n",
       "...                              ...            ...        ...      ...   \n",
       "30485    FOODS_3_823_WI_3_evaluation    FOODS_3_823    FOODS_3    FOODS   \n",
       "30486    FOODS_3_824_WI_3_evaluation    FOODS_3_824    FOODS_3    FOODS   \n",
       "30487    FOODS_3_825_WI_3_evaluation    FOODS_3_825    FOODS_3    FOODS   \n",
       "30488    FOODS_3_826_WI_3_evaluation    FOODS_3_826    FOODS_3    FOODS   \n",
       "30489    FOODS_3_827_WI_3_evaluation    FOODS_3_827    FOODS_3    FOODS   \n",
       "\n",
       "      store_id state_id  d_1  d_2  d_3  d_4  ...  d_1932  d_1933  d_1934  \\\n",
       "0         CA_1       CA    0    0    0    0  ...       2       4       0   \n",
       "1         CA_1       CA    0    0    0    0  ...       0       1       2   \n",
       "2         CA_1       CA    0    0    0    0  ...       1       0       2   \n",
       "3         CA_1       CA    0    0    0    0  ...       1       1       0   \n",
       "4         CA_1       CA    0    0    0    0  ...       0       0       0   \n",
       "...        ...      ...  ...  ...  ...  ...  ...     ...     ...     ...   \n",
       "30485     WI_3       WI    0    0    2    2  ...       1       0       3   \n",
       "30486     WI_3       WI    0    0    0    0  ...       0       0       0   \n",
       "30487     WI_3       WI    0    6    0    2  ...       0       0       1   \n",
       "30488     WI_3       WI    0    0    0    0  ...       1       1       1   \n",
       "30489     WI_3       WI    0    0    0    0  ...       1       2       0   \n",
       "\n",
       "       d_1935  d_1936  d_1937  d_1938  d_1939  d_1940  d_1941  \n",
       "0           0       0       0       3       3       0       1  \n",
       "1           1       1       0       0       0       0       0  \n",
       "2           0       0       0       2       3       0       1  \n",
       "3           4       0       1       3       0       2       6  \n",
       "4           2       1       0       0       2       1       0  \n",
       "...       ...     ...     ...     ...     ...     ...     ...  \n",
       "30485       0       1       1       0       0       1       1  \n",
       "30486       0       0       0       1       0       1       0  \n",
       "30487       2       0       1       0       1       0       2  \n",
       "30488       4       6       0       1       1       1       0  \n",
       "30489       5       4       0       2       2       5       1  \n",
       "\n",
       "[30490 rows x 1947 columns]"
      ]
     },
     "execution_count": 4,
     "metadata": {},
     "output_type": "execute_result"
    }
   ],
   "source": [
    "#load the sales data first\n",
    "df = pd.read_csv('/Users/irislu/Downloads/capstone2/m5-forecasting-accuracy/sales_train_evaluation.csv')\n",
    "df"
   ]
  },
  {
   "cell_type": "code",
   "execution_count": 5,
   "metadata": {},
   "outputs": [
    {
     "data": {
      "text/plain": [
       "30490"
      ]
     },
     "execution_count": 5,
     "metadata": {},
     "output_type": "execute_result"
    }
   ],
   "source": [
    "# There are 30490 records\n",
    "df.id.count()"
   ]
  },
  {
   "cell_type": "code",
   "execution_count": 6,
   "metadata": {},
   "outputs": [
    {
     "data": {
      "text/plain": [
       "3049"
      ]
     },
     "execution_count": 6,
     "metadata": {},
     "output_type": "execute_result"
    }
   ],
   "source": [
    "# There are 3029 unique items, and there are 10 stores, which means each of these 3029 items all has a record row in each store\n",
    "df.item_id.nunique()"
   ]
  },
  {
   "cell_type": "code",
   "execution_count": 7,
   "metadata": {},
   "outputs": [
    {
     "data": {
      "text/plain": [
       "<matplotlib.axes._subplots.AxesSubplot at 0x7fd9bd0b5210>"
      ]
     },
     "execution_count": 7,
     "metadata": {},
     "output_type": "execute_result"
    },
    {
     "data": {
      "image/png": "[encoded data removed]",
      "text/plain": [
       "<Figure size 432x288 with 1 Axes>"
      ]
     },
     "metadata": {
      "needs_background": "light"
     },
     "output_type": "display_data"
    }
   ],
   "source": [
    "# let's see how many products under each category. It seems food products are the most recorded in the dataset\n",
    "df.groupby('cat_id').id.count().plot(kind='barh',title='product count for each category')"
   ]
  },
  {
   "cell_type": "code",
   "execution_count": 8,
   "metadata": {},
   "outputs": [
    {
     "data": {
      "text/plain": [
       "<matplotlib.axes._subplots.AxesSubplot at 0x7fd9c67cc810>"
      ]
     },
     "execution_count": 8,
     "metadata": {},
     "output_type": "execute_result"
    },
    {
     "data": {
      "image/png": "[encoded data removed]",
      "text/plain": [
       "<Figure size 1080x360 with 1 Axes>"
      ]
     },
     "metadata": {
      "needs_background": "light"
     },
     "output_type": "display_data"
    }
   ],
   "source": [
    "#Let's take a look at the sales trend across categories\n",
    "agg_dict = {}\n",
    "\n",
    "for col in df.iloc[:,6:].columns.to_list():\n",
    "    agg_dict[col] = 'sum'\n",
    "sale_trend_cat = df.groupby('cat_id').agg(agg_dict).stack().unstack(level=0)\n",
    "sale_trend_cat.plot(figsize=(15, 5),\n",
    "              alpha=0.8,\n",
    "              title='Sale trend by category')"
   ]
  },
  {
   "cell_type": "code",
   "execution_count": 9,
   "metadata": {},
   "outputs": [
    {
     "data": {
      "text/html": [
       "<div>\n",
       "<style scoped>\n",
       "    .dataframe tbody tr th:only-of-type {\n",
       "        vertical-align: middle;\n",
       "    }\n",
       "\n",
       "    .dataframe tbody tr th {\n",
       "        vertical-align: top;\n",
       "    }\n",
       "\n",
       "    .dataframe thead th {\n",
       "        text-align: right;\n",
       "    }\n",
       "</style>\n",
       "<table border=\"1\" class=\"dataframe\">\n",
       "  <thead>\n",
       "    <tr style=\"text-align: right;\">\n",
       "      <th>cat_id</th>\n",
       "      <th>FOODS</th>\n",
       "      <th>HOBBIES</th>\n",
       "      <th>HOUSEHOLD</th>\n",
       "    </tr>\n",
       "  </thead>\n",
       "  <tbody>\n",
       "    <tr>\n",
       "      <td>d_331</td>\n",
       "      <td>13</td>\n",
       "      <td>0</td>\n",
       "      <td>0</td>\n",
       "    </tr>\n",
       "    <tr>\n",
       "      <td>d_697</td>\n",
       "      <td>11</td>\n",
       "      <td>0</td>\n",
       "      <td>0</td>\n",
       "    </tr>\n",
       "    <tr>\n",
       "      <td>d_1062</td>\n",
       "      <td>20</td>\n",
       "      <td>0</td>\n",
       "      <td>0</td>\n",
       "    </tr>\n",
       "    <tr>\n",
       "      <td>d_1427</td>\n",
       "      <td>20</td>\n",
       "      <td>0</td>\n",
       "      <td>0</td>\n",
       "    </tr>\n",
       "    <tr>\n",
       "      <td>d_1792</td>\n",
       "      <td>13</td>\n",
       "      <td>0</td>\n",
       "      <td>1</td>\n",
       "    </tr>\n",
       "  </tbody>\n",
       "</table>\n",
       "</div>"
      ],
      "text/plain": [
       "cat_id  FOODS  HOBBIES  HOUSEHOLD\n",
       "d_331      13        0          0\n",
       "d_697      11        0          0\n",
       "d_1062     20        0          0\n",
       "d_1427     20        0          0\n",
       "d_1792     13        0          1"
      ]
     },
     "execution_count": 9,
     "metadata": {},
     "output_type": "execute_result"
    }
   ],
   "source": [
    "# There are five very obvious plunge for every season, and the five days are all on Christmas. It is doubtful \n",
    "#how the few food transactions happened. \n",
    "sale_trend_cat[sale_trend_cat.FOODS<50]"
   ]
  },
  {
   "cell_type": "code",
   "execution_count": null,
   "metadata": {},
   "outputs": [],
   "source": []
  },
  {
   "cell_type": "code",
   "execution_count": 10,
   "metadata": {},
   "outputs": [
    {
     "data": {
      "text/plain": [
       "defaultdict(int, {'FOODS_3': 72, 'FOODS_1': 4, 'FOODS_2': 1, 'HOUSEHOLD_2': 1})"
      ]
     },
     "execution_count": 10,
     "metadata": {},
     "output_type": "execute_result"
    }
   ],
   "source": [
    "#Let's see what items were sold on Christmas. It seems someone managed to buy the following items despite that Walmarts \n",
    "# are closed on Christmas. We may want to focus on FOODS_3 because it was mostly purchased. \n",
    "christmas_item = defaultdict(int)\n",
    "christmas_day = sale_trend_cat[sale_trend_cat.FOODS<50].index\n",
    "for day in christmas_day:\n",
    "    for index, row in df[df[day]>0].iterrows(): \n",
    "        christmas_item[row.dept_id] += row[day]\n",
    "\n",
    "christmas_item\n"
   ]
  },
  {
   "cell_type": "code",
   "execution_count": 11,
   "metadata": {},
   "outputs": [
    {
     "data": {
      "text/plain": [
       "(array([0, 1, 2, 3, 4, 5, 6]), <a list of 7 Text xticklabel objects>)"
      ]
     },
     "execution_count": 11,
     "metadata": {},
     "output_type": "execute_result"
    },
    {
     "data": {
      "image/png": "[encoded data removed]",
      "text/plain": [
       "<Figure size 432x288 with 1 Axes>"
      ]
     },
     "metadata": {
      "needs_background": "light"
     },
     "output_type": "display_data"
    }
   ],
   "source": [
    "# we can see department FOODS_3 has more items in it but it is not proportional to how many FOODS_3 items were purchased \n",
    "# on Christmas\n",
    "df.groupby('dept_id').item_id.nunique().plot(kind='bar')\n",
    "plt.xticks(rotation=45)"
   ]
  },
  {
   "cell_type": "code",
   "execution_count": 12,
   "metadata": {},
   "outputs": [
    {
     "data": {
      "text/plain": [
       "array(['CA_1', 'CA_2', 'CA_3', 'CA_4', 'TX_1', 'TX_2', 'TX_3', 'WI_1',\n",
       "       'WI_2', 'WI_3'], dtype=object)"
      ]
     },
     "execution_count": 12,
     "metadata": {},
     "output_type": "execute_result"
    }
   ],
   "source": [
    "#we noticed there are 10 stores in 3 states\n",
    "df.store_id.unique()"
   ]
  },
  {
   "cell_type": "code",
   "execution_count": 13,
   "metadata": {},
   "outputs": [
    {
     "data": {
      "image/png": "[encoded data removed]",
      "text/plain": [
       "<Figure size 1080x720 with 1 Axes>"
      ]
     },
     "metadata": {
      "needs_background": "light"
     },
     "output_type": "display_data"
    }
   ],
   "source": [
    "# we can see if there is a huge difference of sales between each state.The largest sale is from CA. While WI was \n",
    "#lagged behind TX at the beginning, it caught up towards the end of research period\n",
    "\n",
    "sale_trend_state = df.groupby('state_id').agg(agg_dict).stack().unstack(level=0)\n",
    "sale_trend_state.plot(figsize=(15, 10),\n",
    "              alpha=0.8,\n",
    "              title='Sale trend by state id')\n",
    "plt.show()"
   ]
  },
  {
   "cell_type": "code",
   "execution_count": 259,
   "metadata": {},
   "outputs": [
    {
     "data": {
      "text/html": [
       "<div>\n",
       "<style scoped>\n",
       "    .dataframe tbody tr th:only-of-type {\n",
       "        vertical-align: middle;\n",
       "    }\n",
       "\n",
       "    .dataframe tbody tr th {\n",
       "        vertical-align: top;\n",
       "    }\n",
       "\n",
       "    .dataframe thead th {\n",
       "        text-align: right;\n",
       "    }\n",
       "</style>\n",
       "<table border=\"1\" class=\"dataframe\">\n",
       "  <thead>\n",
       "    <tr style=\"text-align: right;\">\n",
       "      <th>state_id</th>\n",
       "      <th>CA</th>\n",
       "      <th>TX</th>\n",
       "      <th>WI</th>\n",
       "    </tr>\n",
       "  </thead>\n",
       "  <tbody>\n",
       "    <tr>\n",
       "      <td>d_1</td>\n",
       "      <td>14195</td>\n",
       "      <td>9438</td>\n",
       "      <td>8998</td>\n",
       "    </tr>\n",
       "    <tr>\n",
       "      <td>d_2</td>\n",
       "      <td>13805</td>\n",
       "      <td>9630</td>\n",
       "      <td>8314</td>\n",
       "    </tr>\n",
       "    <tr>\n",
       "      <td>d_3</td>\n",
       "      <td>10108</td>\n",
       "      <td>6778</td>\n",
       "      <td>6897</td>\n",
       "    </tr>\n",
       "    <tr>\n",
       "      <td>d_4</td>\n",
       "      <td>11047</td>\n",
       "      <td>7381</td>\n",
       "      <td>6984</td>\n",
       "    </tr>\n",
       "    <tr>\n",
       "      <td>d_5</td>\n",
       "      <td>9925</td>\n",
       "      <td>5912</td>\n",
       "      <td>3309</td>\n",
       "    </tr>\n",
       "    <tr>\n",
       "      <td>...</td>\n",
       "      <td>...</td>\n",
       "      <td>...</td>\n",
       "      <td>...</td>\n",
       "    </tr>\n",
       "    <tr>\n",
       "      <td>d_1937</td>\n",
       "      <td>15678</td>\n",
       "      <td>10375</td>\n",
       "      <td>11043</td>\n",
       "    </tr>\n",
       "    <tr>\n",
       "      <td>d_1938</td>\n",
       "      <td>16297</td>\n",
       "      <td>9162</td>\n",
       "      <td>11504</td>\n",
       "    </tr>\n",
       "    <tr>\n",
       "      <td>d_1939</td>\n",
       "      <td>17430</td>\n",
       "      <td>12303</td>\n",
       "      <td>12819</td>\n",
       "    </tr>\n",
       "    <tr>\n",
       "      <td>d_1940</td>\n",
       "      <td>23103</td>\n",
       "      <td>13681</td>\n",
       "      <td>14734</td>\n",
       "    </tr>\n",
       "    <tr>\n",
       "      <td>d_1941</td>\n",
       "      <td>24644</td>\n",
       "      <td>14815</td>\n",
       "      <td>14879</td>\n",
       "    </tr>\n",
       "  </tbody>\n",
       "</table>\n",
       "<p>1941 rows × 3 columns</p>\n",
       "</div>"
      ],
      "text/plain": [
       "state_id     CA     TX     WI\n",
       "d_1       14195   9438   8998\n",
       "d_2       13805   9630   8314\n",
       "d_3       10108   6778   6897\n",
       "d_4       11047   7381   6984\n",
       "d_5        9925   5912   3309\n",
       "...         ...    ...    ...\n",
       "d_1937    15678  10375  11043\n",
       "d_1938    16297   9162  11504\n",
       "d_1939    17430  12303  12819\n",
       "d_1940    23103  13681  14734\n",
       "d_1941    24644  14815  14879\n",
       "\n",
       "[1941 rows x 3 columns]"
      ]
     },
     "execution_count": 259,
     "metadata": {},
     "output_type": "execute_result"
    }
   ],
   "source": [
    "sale_trend_state"
   ]
  },
  {
   "cell_type": "code",
   "execution_count": 14,
   "metadata": {},
   "outputs": [
    {
     "data": {
      "text/html": [
       "<div>\n",
       "<style scoped>\n",
       "    .dataframe tbody tr th:only-of-type {\n",
       "        vertical-align: middle;\n",
       "    }\n",
       "\n",
       "    .dataframe tbody tr th {\n",
       "        vertical-align: top;\n",
       "    }\n",
       "\n",
       "    .dataframe thead th {\n",
       "        text-align: right;\n",
       "    }\n",
       "</style>\n",
       "<table border=\"1\" class=\"dataframe\">\n",
       "  <thead>\n",
       "    <tr style=\"text-align: right;\">\n",
       "      <th></th>\n",
       "      <th>date</th>\n",
       "      <th>wm_yr_wk</th>\n",
       "      <th>weekday</th>\n",
       "      <th>wday</th>\n",
       "      <th>month</th>\n",
       "      <th>year</th>\n",
       "      <th>d</th>\n",
       "      <th>event_name_1</th>\n",
       "      <th>event_type_1</th>\n",
       "      <th>event_name_2</th>\n",
       "      <th>event_type_2</th>\n",
       "      <th>snap_CA</th>\n",
       "      <th>snap_TX</th>\n",
       "      <th>snap_WI</th>\n",
       "    </tr>\n",
       "  </thead>\n",
       "  <tbody>\n",
       "    <tr>\n",
       "      <td>0</td>\n",
       "      <td>2011-01-29</td>\n",
       "      <td>11101</td>\n",
       "      <td>Saturday</td>\n",
       "      <td>1</td>\n",
       "      <td>1</td>\n",
       "      <td>2011</td>\n",
       "      <td>d_1</td>\n",
       "      <td>NaN</td>\n",
       "      <td>NaN</td>\n",
       "      <td>NaN</td>\n",
       "      <td>NaN</td>\n",
       "      <td>0</td>\n",
       "      <td>0</td>\n",
       "      <td>0</td>\n",
       "    </tr>\n",
       "    <tr>\n",
       "      <td>1</td>\n",
       "      <td>2011-01-30</td>\n",
       "      <td>11101</td>\n",
       "      <td>Sunday</td>\n",
       "      <td>2</td>\n",
       "      <td>1</td>\n",
       "      <td>2011</td>\n",
       "      <td>d_2</td>\n",
       "      <td>NaN</td>\n",
       "      <td>NaN</td>\n",
       "      <td>NaN</td>\n",
       "      <td>NaN</td>\n",
       "      <td>0</td>\n",
       "      <td>0</td>\n",
       "      <td>0</td>\n",
       "    </tr>\n",
       "    <tr>\n",
       "      <td>2</td>\n",
       "      <td>2011-01-31</td>\n",
       "      <td>11101</td>\n",
       "      <td>Monday</td>\n",
       "      <td>3</td>\n",
       "      <td>1</td>\n",
       "      <td>2011</td>\n",
       "      <td>d_3</td>\n",
       "      <td>NaN</td>\n",
       "      <td>NaN</td>\n",
       "      <td>NaN</td>\n",
       "      <td>NaN</td>\n",
       "      <td>0</td>\n",
       "      <td>0</td>\n",
       "      <td>0</td>\n",
       "    </tr>\n",
       "    <tr>\n",
       "      <td>3</td>\n",
       "      <td>2011-02-01</td>\n",
       "      <td>11101</td>\n",
       "      <td>Tuesday</td>\n",
       "      <td>4</td>\n",
       "      <td>2</td>\n",
       "      <td>2011</td>\n",
       "      <td>d_4</td>\n",
       "      <td>NaN</td>\n",
       "      <td>NaN</td>\n",
       "      <td>NaN</td>\n",
       "      <td>NaN</td>\n",
       "      <td>1</td>\n",
       "      <td>1</td>\n",
       "      <td>0</td>\n",
       "    </tr>\n",
       "    <tr>\n",
       "      <td>4</td>\n",
       "      <td>2011-02-02</td>\n",
       "      <td>11101</td>\n",
       "      <td>Wednesday</td>\n",
       "      <td>5</td>\n",
       "      <td>2</td>\n",
       "      <td>2011</td>\n",
       "      <td>d_5</td>\n",
       "      <td>NaN</td>\n",
       "      <td>NaN</td>\n",
       "      <td>NaN</td>\n",
       "      <td>NaN</td>\n",
       "      <td>1</td>\n",
       "      <td>0</td>\n",
       "      <td>1</td>\n",
       "    </tr>\n",
       "    <tr>\n",
       "      <td>...</td>\n",
       "      <td>...</td>\n",
       "      <td>...</td>\n",
       "      <td>...</td>\n",
       "      <td>...</td>\n",
       "      <td>...</td>\n",
       "      <td>...</td>\n",
       "      <td>...</td>\n",
       "      <td>...</td>\n",
       "      <td>...</td>\n",
       "      <td>...</td>\n",
       "      <td>...</td>\n",
       "      <td>...</td>\n",
       "      <td>...</td>\n",
       "      <td>...</td>\n",
       "    </tr>\n",
       "    <tr>\n",
       "      <td>1964</td>\n",
       "      <td>2016-06-15</td>\n",
       "      <td>11620</td>\n",
       "      <td>Wednesday</td>\n",
       "      <td>5</td>\n",
       "      <td>6</td>\n",
       "      <td>2016</td>\n",
       "      <td>d_1965</td>\n",
       "      <td>NaN</td>\n",
       "      <td>NaN</td>\n",
       "      <td>NaN</td>\n",
       "      <td>NaN</td>\n",
       "      <td>0</td>\n",
       "      <td>1</td>\n",
       "      <td>1</td>\n",
       "    </tr>\n",
       "    <tr>\n",
       "      <td>1965</td>\n",
       "      <td>2016-06-16</td>\n",
       "      <td>11620</td>\n",
       "      <td>Thursday</td>\n",
       "      <td>6</td>\n",
       "      <td>6</td>\n",
       "      <td>2016</td>\n",
       "      <td>d_1966</td>\n",
       "      <td>NaN</td>\n",
       "      <td>NaN</td>\n",
       "      <td>NaN</td>\n",
       "      <td>NaN</td>\n",
       "      <td>0</td>\n",
       "      <td>0</td>\n",
       "      <td>0</td>\n",
       "    </tr>\n",
       "    <tr>\n",
       "      <td>1966</td>\n",
       "      <td>2016-06-17</td>\n",
       "      <td>11620</td>\n",
       "      <td>Friday</td>\n",
       "      <td>7</td>\n",
       "      <td>6</td>\n",
       "      <td>2016</td>\n",
       "      <td>d_1967</td>\n",
       "      <td>NaN</td>\n",
       "      <td>NaN</td>\n",
       "      <td>NaN</td>\n",
       "      <td>NaN</td>\n",
       "      <td>0</td>\n",
       "      <td>0</td>\n",
       "      <td>0</td>\n",
       "    </tr>\n",
       "    <tr>\n",
       "      <td>1967</td>\n",
       "      <td>2016-06-18</td>\n",
       "      <td>11621</td>\n",
       "      <td>Saturday</td>\n",
       "      <td>1</td>\n",
       "      <td>6</td>\n",
       "      <td>2016</td>\n",
       "      <td>d_1968</td>\n",
       "      <td>NaN</td>\n",
       "      <td>NaN</td>\n",
       "      <td>NaN</td>\n",
       "      <td>NaN</td>\n",
       "      <td>0</td>\n",
       "      <td>0</td>\n",
       "      <td>0</td>\n",
       "    </tr>\n",
       "    <tr>\n",
       "      <td>1968</td>\n",
       "      <td>2016-06-19</td>\n",
       "      <td>11621</td>\n",
       "      <td>Sunday</td>\n",
       "      <td>2</td>\n",
       "      <td>6</td>\n",
       "      <td>2016</td>\n",
       "      <td>d_1969</td>\n",
       "      <td>NBAFinalsEnd</td>\n",
       "      <td>Sporting</td>\n",
       "      <td>Father's day</td>\n",
       "      <td>Cultural</td>\n",
       "      <td>0</td>\n",
       "      <td>0</td>\n",
       "      <td>0</td>\n",
       "    </tr>\n",
       "  </tbody>\n",
       "</table>\n",
       "<p>1969 rows × 14 columns</p>\n",
       "</div>"
      ],
      "text/plain": [
       "            date  wm_yr_wk    weekday  wday  month  year       d  \\\n",
       "0     2011-01-29     11101   Saturday     1      1  2011     d_1   \n",
       "1     2011-01-30     11101     Sunday     2      1  2011     d_2   \n",
       "2     2011-01-31     11101     Monday     3      1  2011     d_3   \n",
       "3     2011-02-01     11101    Tuesday     4      2  2011     d_4   \n",
       "4     2011-02-02     11101  Wednesday     5      2  2011     d_5   \n",
       "...          ...       ...        ...   ...    ...   ...     ...   \n",
       "1964  2016-06-15     11620  Wednesday     5      6  2016  d_1965   \n",
       "1965  2016-06-16     11620   Thursday     6      6  2016  d_1966   \n",
       "1966  2016-06-17     11620     Friday     7      6  2016  d_1967   \n",
       "1967  2016-06-18     11621   Saturday     1      6  2016  d_1968   \n",
       "1968  2016-06-19     11621     Sunday     2      6  2016  d_1969   \n",
       "\n",
       "      event_name_1 event_type_1  event_name_2 event_type_2  snap_CA  snap_TX  \\\n",
       "0              NaN          NaN           NaN          NaN        0        0   \n",
       "1              NaN          NaN           NaN          NaN        0        0   \n",
       "2              NaN          NaN           NaN          NaN        0        0   \n",
       "3              NaN          NaN           NaN          NaN        1        1   \n",
       "4              NaN          NaN           NaN          NaN        1        0   \n",
       "...            ...          ...           ...          ...      ...      ...   \n",
       "1964           NaN          NaN           NaN          NaN        0        1   \n",
       "1965           NaN          NaN           NaN          NaN        0        0   \n",
       "1966           NaN          NaN           NaN          NaN        0        0   \n",
       "1967           NaN          NaN           NaN          NaN        0        0   \n",
       "1968  NBAFinalsEnd     Sporting  Father's day     Cultural        0        0   \n",
       "\n",
       "      snap_WI  \n",
       "0           0  \n",
       "1           0  \n",
       "2           0  \n",
       "3           0  \n",
       "4           1  \n",
       "...       ...  \n",
       "1964        1  \n",
       "1965        0  \n",
       "1966        0  \n",
       "1967        0  \n",
       "1968        0  \n",
       "\n",
       "[1969 rows x 14 columns]"
      ]
     },
     "execution_count": 14,
     "metadata": {},
     "output_type": "execute_result"
    }
   ],
   "source": [
    "# Let's load the calendar file which mostly tells us what wm_yr_wk is for each day\n",
    "calendar = pd.read_csv('/Users/irislu/Downloads/capstone2/m5-forecasting-accuracy/calendar.csv')\n",
    "calendar"
   ]
  },
  {
   "cell_type": "code",
   "execution_count": null,
   "metadata": {},
   "outputs": [],
   "source": []
  },
  {
   "cell_type": "code",
   "execution_count": 15,
   "metadata": {},
   "outputs": [
    {
     "data": {
      "text/plain": [
       "[364, 364, 371, 364, 364, 142]"
      ]
     },
     "execution_count": 15,
     "metadata": {},
     "output_type": "execute_result"
    }
   ],
   "source": [
    "# Since the first day starts on Jan 29 rather than Jan 1, we cannot simply cut the last day of the year on Dec 31.\n",
    "year_day = []\n",
    "for i in range(6):\n",
    "    start_date = 11100 + i*100\n",
    "    stop_date = 11200 + i*100\n",
    "    year_num = calendar[calendar['wm_yr_wk'].between(start_date, stop_date, inclusive=False)].shape[0]\n",
    "    year_day.append(year_num)\n",
    "year_day\n",
    "# we can see that the first 5 year_day are pretty close to 365 days. Thus, we can use wm_yr_wk to judge which year \n",
    "#a record belongs to. This means, if wm_yr_wk is between 11100 and 11200, then the record is from year 1; if between\n",
    "#11200 and 11300, then the record is from year 2. This will make our work later much easier."
   ]
  },
  {
   "cell_type": "code",
   "execution_count": 16,
   "metadata": {},
   "outputs": [
    {
     "data": {
      "text/html": [
       "<div>\n",
       "<style scoped>\n",
       "    .dataframe tbody tr th:only-of-type {\n",
       "        vertical-align: middle;\n",
       "    }\n",
       "\n",
       "    .dataframe tbody tr th {\n",
       "        vertical-align: top;\n",
       "    }\n",
       "\n",
       "    .dataframe thead th {\n",
       "        text-align: right;\n",
       "    }\n",
       "</style>\n",
       "<table border=\"1\" class=\"dataframe\">\n",
       "  <thead>\n",
       "    <tr style=\"text-align: right;\">\n",
       "      <th></th>\n",
       "      <th>store_id</th>\n",
       "      <th>item_id</th>\n",
       "      <th>wm_yr_wk</th>\n",
       "      <th>sell_price</th>\n",
       "    </tr>\n",
       "  </thead>\n",
       "  <tbody>\n",
       "    <tr>\n",
       "      <td>0</td>\n",
       "      <td>CA_1</td>\n",
       "      <td>HOBBIES_1_001</td>\n",
       "      <td>11325</td>\n",
       "      <td>9.58</td>\n",
       "    </tr>\n",
       "    <tr>\n",
       "      <td>1</td>\n",
       "      <td>CA_1</td>\n",
       "      <td>HOBBIES_1_001</td>\n",
       "      <td>11326</td>\n",
       "      <td>9.58</td>\n",
       "    </tr>\n",
       "    <tr>\n",
       "      <td>2</td>\n",
       "      <td>CA_1</td>\n",
       "      <td>HOBBIES_1_001</td>\n",
       "      <td>11327</td>\n",
       "      <td>8.26</td>\n",
       "    </tr>\n",
       "    <tr>\n",
       "      <td>3</td>\n",
       "      <td>CA_1</td>\n",
       "      <td>HOBBIES_1_001</td>\n",
       "      <td>11328</td>\n",
       "      <td>8.26</td>\n",
       "    </tr>\n",
       "    <tr>\n",
       "      <td>4</td>\n",
       "      <td>CA_1</td>\n",
       "      <td>HOBBIES_1_001</td>\n",
       "      <td>11329</td>\n",
       "      <td>8.26</td>\n",
       "    </tr>\n",
       "    <tr>\n",
       "      <td>...</td>\n",
       "      <td>...</td>\n",
       "      <td>...</td>\n",
       "      <td>...</td>\n",
       "      <td>...</td>\n",
       "    </tr>\n",
       "    <tr>\n",
       "      <td>6841116</td>\n",
       "      <td>WI_3</td>\n",
       "      <td>FOODS_3_827</td>\n",
       "      <td>11617</td>\n",
       "      <td>1.00</td>\n",
       "    </tr>\n",
       "    <tr>\n",
       "      <td>6841117</td>\n",
       "      <td>WI_3</td>\n",
       "      <td>FOODS_3_827</td>\n",
       "      <td>11618</td>\n",
       "      <td>1.00</td>\n",
       "    </tr>\n",
       "    <tr>\n",
       "      <td>6841118</td>\n",
       "      <td>WI_3</td>\n",
       "      <td>FOODS_3_827</td>\n",
       "      <td>11619</td>\n",
       "      <td>1.00</td>\n",
       "    </tr>\n",
       "    <tr>\n",
       "      <td>6841119</td>\n",
       "      <td>WI_3</td>\n",
       "      <td>FOODS_3_827</td>\n",
       "      <td>11620</td>\n",
       "      <td>1.00</td>\n",
       "    </tr>\n",
       "    <tr>\n",
       "      <td>6841120</td>\n",
       "      <td>WI_3</td>\n",
       "      <td>FOODS_3_827</td>\n",
       "      <td>11621</td>\n",
       "      <td>1.00</td>\n",
       "    </tr>\n",
       "  </tbody>\n",
       "</table>\n",
       "<p>6841121 rows × 4 columns</p>\n",
       "</div>"
      ],
      "text/plain": [
       "        store_id        item_id  wm_yr_wk  sell_price\n",
       "0           CA_1  HOBBIES_1_001     11325        9.58\n",
       "1           CA_1  HOBBIES_1_001     11326        9.58\n",
       "2           CA_1  HOBBIES_1_001     11327        8.26\n",
       "3           CA_1  HOBBIES_1_001     11328        8.26\n",
       "4           CA_1  HOBBIES_1_001     11329        8.26\n",
       "...          ...            ...       ...         ...\n",
       "6841116     WI_3    FOODS_3_827     11617        1.00\n",
       "6841117     WI_3    FOODS_3_827     11618        1.00\n",
       "6841118     WI_3    FOODS_3_827     11619        1.00\n",
       "6841119     WI_3    FOODS_3_827     11620        1.00\n",
       "6841120     WI_3    FOODS_3_827     11621        1.00\n",
       "\n",
       "[6841121 rows x 4 columns]"
      ]
     },
     "execution_count": 16,
     "metadata": {},
     "output_type": "execute_result"
    }
   ],
   "source": [
    "# And finanlly we load the price doc. It is important since according to the competition guide, it is the only place \n",
    "# where you can figure out if the item was actually sold in a store. If there is a price for an item in a store,\n",
    "#the item is sold there.\n",
    "price = pd.read_csv('/Users/irislu/Downloads/capstone2/m5-forecasting-accuracy/sell_prices.csv')\n",
    "price"
   ]
  },
  {
   "cell_type": "code",
   "execution_count": 17,
   "metadata": {},
   "outputs": [
    {
     "data": {
      "image/png": "[encoded data removed]",
      "text/plain": [
       "<Figure size 1080x288 with 3 Axes>"
      ]
     },
     "metadata": {
      "needs_background": "light"
     },
     "output_type": "display_data"
    }
   ],
   "source": [
    "# we want to see the distribution of the prices for each category to see if there are a lot of outliers\n",
    "fig, axs = plt.subplots(1, 3, figsize=(15, 4))\n",
    "\n",
    "i = 0\n",
    "for cat , group in price.merge(df[['item_id','cat_id']], on='item_id').groupby('cat_id'):\n",
    "                                                                            ax = group['sell_price'].plot(kind='box', \n",
    "                                                                                ax=axs[i],title=f'Box plots of {cat} prices')\n",
    "                                                                            i += 1\n",
    "                                                                            \n",
    "                                                                            \n",
    "                                                                        \n"
   ]
  },
  {
   "cell_type": "code",
   "execution_count": 18,
   "metadata": {},
   "outputs": [
    {
     "data": {
      "image/png": "[encoded data removed]",
      "text/plain": [
       "<Figure size 1080x288 with 3 Axes>"
      ]
     },
     "metadata": {
      "needs_background": "light"
     },
     "output_type": "display_data"
    }
   ],
   "source": [
    "# we now see the price distribution across difference categories\n",
    "fig, axs = plt.subplots(1, 3, figsize=(15, 4))\n",
    "color_cycle = itertools.cycle(plt.rcParams['axes.prop_cycle'].by_key()['color']) \n",
    "i = 0\n",
    "for cat , group in price.merge(df[['item_id','cat_id']], on='item_id').groupby('cat_id'):\n",
    "                                                                            ax = group['sell_price'].apply(np.log1p).plot(kind='hist', \n",
    "                                                                                ax=axs[i],bins=20,title=f'Distribution of {cat} prices',\n",
    "                                                                                                         color=next(color_cycle))\n",
    "                                                                            i += 1\n",
    "                                                                            ax.set_xlabel('Log(price)')    \n"
   ]
  },
  {
   "cell_type": "code",
   "execution_count": 19,
   "metadata": {},
   "outputs": [
    {
     "data": {
      "text/plain": [
       "<matplotlib.axes._subplots.AxesSubplot at 0x7ff2384e7750>"
      ]
     },
     "execution_count": 19,
     "metadata": {},
     "output_type": "execute_result"
    },
    {
     "data": {
      "image/png": "[encoded data removed]",
      "text/plain": [
       "<Figure size 1080x360 with 1 Axes>"
      ]
     },
     "metadata": {
      "needs_background": "light"
     },
     "output_type": "display_data"
    }
   ],
   "source": [
    "# we use what have learned from calendar to bin the wm_yr_wk into years to better plot the trend\n",
    "bins = [11100,11200,11300,11400,11500,11600]\n",
    "label = ['year1','year2','year3','year4','year5']\n",
    "df_price = df[['item_id','cat_id']].drop_duplicates()\n",
    "sold_percentage = price.merge(df_price, how='left',on='item_id')\n",
    "sold_percentage['year'] = pd.cut(sold_percentage['wm_yr_wk'], bins=bins, labels=label)\n",
    "\n",
    "sold_percentage.groupby(['cat_id','year']).sell_price.count().unstack(level=0).plot(figsize=(15, 5),\n",
    "    alpha=0.8,title='Product availability across stores per each category')\n"
   ]
  },
  {
   "cell_type": "code",
   "execution_count": 20,
   "metadata": {},
   "outputs": [
    {
     "data": {
      "text/html": [
       "<div>\n",
       "<style scoped>\n",
       "    .dataframe tbody tr th:only-of-type {\n",
       "        vertical-align: middle;\n",
       "    }\n",
       "\n",
       "    .dataframe tbody tr th {\n",
       "        vertical-align: top;\n",
       "    }\n",
       "\n",
       "    .dataframe thead th {\n",
       "        text-align: right;\n",
       "    }\n",
       "</style>\n",
       "<table border=\"1\" class=\"dataframe\">\n",
       "  <thead>\n",
       "    <tr style=\"text-align: right;\">\n",
       "      <th>cat_id</th>\n",
       "      <th>FOODS</th>\n",
       "      <th>HOBBIES</th>\n",
       "      <th>HOUSEHOLD</th>\n",
       "    </tr>\n",
       "    <tr>\n",
       "      <th>year</th>\n",
       "      <th></th>\n",
       "      <th></th>\n",
       "      <th></th>\n",
       "    </tr>\n",
       "  </thead>\n",
       "  <tbody>\n",
       "    <tr>\n",
       "      <td>year1</td>\n",
       "      <td>368374</td>\n",
       "      <td>142808</td>\n",
       "      <td>283728</td>\n",
       "    </tr>\n",
       "    <tr>\n",
       "      <td>year2</td>\n",
       "      <td>478932</td>\n",
       "      <td>198327</td>\n",
       "      <td>368536</td>\n",
       "    </tr>\n",
       "    <tr>\n",
       "      <td>year3</td>\n",
       "      <td>605622</td>\n",
       "      <td>249008</td>\n",
       "      <td>449511</td>\n",
       "    </tr>\n",
       "    <tr>\n",
       "      <td>year4</td>\n",
       "      <td>688262</td>\n",
       "      <td>281792</td>\n",
       "      <td>511436</td>\n",
       "    </tr>\n",
       "    <tr>\n",
       "      <td>year5</td>\n",
       "      <td>738833</td>\n",
       "      <td>293320</td>\n",
       "      <td>542358</td>\n",
       "    </tr>\n",
       "  </tbody>\n",
       "</table>\n",
       "</div>"
      ],
      "text/plain": [
       "cat_id   FOODS  HOBBIES  HOUSEHOLD\n",
       "year                              \n",
       "year1   368374   142808     283728\n",
       "year2   478932   198327     368536\n",
       "year3   605622   249008     449511\n",
       "year4   688262   281792     511436\n",
       "year5   738833   293320     542358"
      ]
     },
     "execution_count": 20,
     "metadata": {},
     "output_type": "execute_result"
    }
   ],
   "source": [
    "sold_percentage.groupby(['cat_id','year']).sell_price.count().unstack(level=0)"
   ]
  },
  {
   "cell_type": "markdown",
   "metadata": {},
   "source": [
    "3. Feature aggregation and prepare data for modeling\n",
    "\n",
    "We will imagine how would our training data look like before we start coding. The information we could obtain from the 3 dataframes above are: \n",
    "\n",
    "Dataframe df:5 year of sales(by categoey, by state or by store); \n",
    "\n",
    "Dataframe price: it has each item's price for each week, since we are looking at yearly basis, we just need the min, max and average of price of each item for each year. We can also count the weekly price given to caculate how many weeks an item were sold in each store.\n",
    "\n",
    "Dataframe calendar: for this project, it just acts like a bridge to link day number to wm_yr_wk.\n",
    "\n",
    "The whole training set will look like this: for the current year, for each item, it will contain \n",
    "A. current year' min, max and average price and previous year's min, avg, max price\n",
    "B. previous year's total selling days for each store for the year(which is certain and happened already), and if in current years, the product will be continue(if the price count for current year is over 0 then yes, equals 0 then no)\n",
    "C. previous year's sale by store_id and current year's sales number as target.\n",
    "D. department id category id \n",
    "E. if the item can be purchased by SNAP(we assume all the food item is eligible)\n",
    "\n"
   ]
  },
  {
   "cell_type": "code",
   "execution_count": 21,
   "metadata": {},
   "outputs": [],
   "source": [
    "# Now we do the data wrangling to get the 5 year's data ready.\n",
    "\n",
    "#first we start with a empty list for the 5 year's dataframes later\n",
    "df_list = []\n",
    "# we start a list to contain the number of days contains in each year, the first element is 6 because d_1 column is \n",
    "#6th column in df.\n",
    "days_num = [6]\n",
    "\n",
    "\n",
    "for i in range(5):\n",
    "    #we have decided to use the wm_yr_wk to bin the year number so we set up the start date and stop date for each year\n",
    "    start_date = 11100 + i*100 \n",
    "    stop_date = 11200 + i*100\n",
    "    \n",
    "    #caculate how many days contains in this year\n",
    "    year_num = calendar[calendar['wm_yr_wk'].between(start_date, stop_date, inclusive=False)].shape[0]\n",
    "    #append the days number to days_num list\n",
    "    days_num.append(year_num)\n",
    "    \n",
    "    #group by the item_id, sum up the total daily sales across different stores for this certain year\n",
    "    sales_by_item = df.groupby('item_id')[df.iloc[:,days_num[i]:days_num[i]+year_num].columns].sum()\n",
    "    # sum up the daily sales to obtain the yearly sales for each item\n",
    "    sales_by_item = pd.DataFrame(sales_by_item.sum(axis=1),columns=['sales'])\n",
    "    \n",
    "    # we need the department id and category id for each item so we get it here:\n",
    "    df_ = df[['item_id','dept_id','cat_id']]\n",
    "    df_.drop_duplicates(inplace=True)\n",
    "    dff = sales_by_item.merge(df_, how='left', on='item_id',left_index=True)\n",
    "    \n",
    "    # we want the sales by store_id so we do that here:\n",
    "    by_store = df.groupby(['item_id','store_id'])[df.iloc[:,days_num[i]:days_num[i]+year_num].columns].sum()\n",
    "    by_store = pd.DataFrame(by_store.sum(axis=1),columns=['sales_by_store'])\n",
    "    by_store = by_store.unstack(level=1)\n",
    "    dff = dff.merge(by_store, how='left',on='item_id')\n",
    "\n",
    "    #time to get the price count for each item for each store and (min,max, avg) price\n",
    "    \n",
    "    #get the price for the certain weeks for that year\n",
    "    price_ = price[price['wm_yr_wk'].between(start_date, stop_date, inclusive=False)]\n",
    "    #caculate the min,max,avg\n",
    "    price_agg = pd.DataFrame(price_.groupby('item_id').agg({'sell_price': ['mean', 'min', 'max']}))\n",
    "    #count the weeks that a price is given, which indicates how many weeks that item was sold in each store\n",
    "    price_count = pd.DataFrame(price_.groupby(['item_id','store_id']).wm_yr_wk.count())\n",
    "    price_count_unstack = price_count.unstack(level=1)\n",
    "    \n",
    "    \n",
    "    #finally we merge the price count by store to the main dataframe and create a SNAP column and filled the \n",
    "    #NAN with 0\n",
    "    dff = dff.merge(price_count_unstack,on='item_id',how='left').merge(price_agg,on='item_id',how='left')\n",
    "    dff['SNAP_allowed'] = (dff.dept_id.isin(['FOODS_1','FOODS_2','FOODS_3']))*1\n",
    "    dff = dff.fillna(0)\n",
    "    assert (len(dff) == df.item_id.nunique()), 'Not all the item is included here!'\n",
    "    df_list.append(dff)\n",
    "    \n",
    "    "
   ]
  },
  {
   "cell_type": "code",
   "execution_count": null,
   "metadata": {},
   "outputs": [],
   "source": []
  },
  {
   "cell_type": "code",
   "execution_count": 23,
   "metadata": {},
   "outputs": [
    {
     "data": {
      "text/html": [
       "<div>\n",
       "<style scoped>\n",
       "    .dataframe tbody tr th:only-of-type {\n",
       "        vertical-align: middle;\n",
       "    }\n",
       "\n",
       "    .dataframe tbody tr th {\n",
       "        vertical-align: top;\n",
       "    }\n",
       "\n",
       "    .dataframe thead th {\n",
       "        text-align: right;\n",
       "    }\n",
       "</style>\n",
       "<table border=\"1\" class=\"dataframe\">\n",
       "  <thead>\n",
       "    <tr style=\"text-align: right;\">\n",
       "      <th></th>\n",
       "      <th>item_id</th>\n",
       "      <th>sales</th>\n",
       "      <th>dept_id</th>\n",
       "      <th>cat_id</th>\n",
       "      <th>(sales_by_store, CA_1)</th>\n",
       "      <th>(sales_by_store, CA_2)</th>\n",
       "      <th>(sales_by_store, CA_3)</th>\n",
       "      <th>(sales_by_store, CA_4)</th>\n",
       "      <th>(sales_by_store, TX_1)</th>\n",
       "      <th>(sales_by_store, TX_2)</th>\n",
       "      <th>...</th>\n",
       "      <th>(wm_yr_wk, TX_1)</th>\n",
       "      <th>(wm_yr_wk, TX_2)</th>\n",
       "      <th>(wm_yr_wk, TX_3)</th>\n",
       "      <th>(wm_yr_wk, WI_1)</th>\n",
       "      <th>(wm_yr_wk, WI_2)</th>\n",
       "      <th>(wm_yr_wk, WI_3)</th>\n",
       "      <th>(sell_price, mean)</th>\n",
       "      <th>(sell_price, min)</th>\n",
       "      <th>(sell_price, max)</th>\n",
       "      <th>SNAP_allowed</th>\n",
       "    </tr>\n",
       "  </thead>\n",
       "  <tbody>\n",
       "    <tr>\n",
       "      <td>0</td>\n",
       "      <td>FOODS_1_001</td>\n",
       "      <td>2775</td>\n",
       "      <td>FOODS_1</td>\n",
       "      <td>FOODS</td>\n",
       "      <td>326</td>\n",
       "      <td>471</td>\n",
       "      <td>497</td>\n",
       "      <td>170</td>\n",
       "      <td>183</td>\n",
       "      <td>257</td>\n",
       "      <td>...</td>\n",
       "      <td>52.0</td>\n",
       "      <td>52.0</td>\n",
       "      <td>51.0</td>\n",
       "      <td>52.0</td>\n",
       "      <td>52.0</td>\n",
       "      <td>52.0</td>\n",
       "      <td>1.999037</td>\n",
       "      <td>1.75</td>\n",
       "      <td>2.00</td>\n",
       "      <td>1</td>\n",
       "    </tr>\n",
       "    <tr>\n",
       "      <td>1</td>\n",
       "      <td>FOODS_1_002</td>\n",
       "      <td>1348</td>\n",
       "      <td>FOODS_1</td>\n",
       "      <td>FOODS</td>\n",
       "      <td>292</td>\n",
       "      <td>72</td>\n",
       "      <td>126</td>\n",
       "      <td>111</td>\n",
       "      <td>88</td>\n",
       "      <td>100</td>\n",
       "      <td>...</td>\n",
       "      <td>51.0</td>\n",
       "      <td>52.0</td>\n",
       "      <td>52.0</td>\n",
       "      <td>52.0</td>\n",
       "      <td>52.0</td>\n",
       "      <td>52.0</td>\n",
       "      <td>8.180925</td>\n",
       "      <td>7.66</td>\n",
       "      <td>8.88</td>\n",
       "      <td>1</td>\n",
       "    </tr>\n",
       "    <tr>\n",
       "      <td>2</td>\n",
       "      <td>FOODS_1_003</td>\n",
       "      <td>3138</td>\n",
       "      <td>FOODS_1</td>\n",
       "      <td>FOODS</td>\n",
       "      <td>318</td>\n",
       "      <td>732</td>\n",
       "      <td>353</td>\n",
       "      <td>251</td>\n",
       "      <td>180</td>\n",
       "      <td>184</td>\n",
       "      <td>...</td>\n",
       "      <td>52.0</td>\n",
       "      <td>52.0</td>\n",
       "      <td>52.0</td>\n",
       "      <td>52.0</td>\n",
       "      <td>52.0</td>\n",
       "      <td>52.0</td>\n",
       "      <td>2.880000</td>\n",
       "      <td>2.88</td>\n",
       "      <td>2.88</td>\n",
       "      <td>1</td>\n",
       "    </tr>\n",
       "    <tr>\n",
       "      <td>3</td>\n",
       "      <td>FOODS_1_004</td>\n",
       "      <td>0</td>\n",
       "      <td>FOODS_1</td>\n",
       "      <td>FOODS</td>\n",
       "      <td>0</td>\n",
       "      <td>0</td>\n",
       "      <td>0</td>\n",
       "      <td>0</td>\n",
       "      <td>0</td>\n",
       "      <td>0</td>\n",
       "      <td>...</td>\n",
       "      <td>0.0</td>\n",
       "      <td>0.0</td>\n",
       "      <td>0.0</td>\n",
       "      <td>0.0</td>\n",
       "      <td>0.0</td>\n",
       "      <td>0.0</td>\n",
       "      <td>0.000000</td>\n",
       "      <td>0.00</td>\n",
       "      <td>0.00</td>\n",
       "      <td>1</td>\n",
       "    </tr>\n",
       "    <tr>\n",
       "      <td>4</td>\n",
       "      <td>FOODS_1_005</td>\n",
       "      <td>5590</td>\n",
       "      <td>FOODS_1</td>\n",
       "      <td>FOODS</td>\n",
       "      <td>643</td>\n",
       "      <td>1500</td>\n",
       "      <td>1098</td>\n",
       "      <td>165</td>\n",
       "      <td>306</td>\n",
       "      <td>320</td>\n",
       "      <td>...</td>\n",
       "      <td>52.0</td>\n",
       "      <td>52.0</td>\n",
       "      <td>52.0</td>\n",
       "      <td>52.0</td>\n",
       "      <td>52.0</td>\n",
       "      <td>49.0</td>\n",
       "      <td>3.104603</td>\n",
       "      <td>2.50</td>\n",
       "      <td>3.28</td>\n",
       "      <td>1</td>\n",
       "    </tr>\n",
       "    <tr>\n",
       "      <td>...</td>\n",
       "      <td>...</td>\n",
       "      <td>...</td>\n",
       "      <td>...</td>\n",
       "      <td>...</td>\n",
       "      <td>...</td>\n",
       "      <td>...</td>\n",
       "      <td>...</td>\n",
       "      <td>...</td>\n",
       "      <td>...</td>\n",
       "      <td>...</td>\n",
       "      <td>...</td>\n",
       "      <td>...</td>\n",
       "      <td>...</td>\n",
       "      <td>...</td>\n",
       "      <td>...</td>\n",
       "      <td>...</td>\n",
       "      <td>...</td>\n",
       "      <td>...</td>\n",
       "      <td>...</td>\n",
       "      <td>...</td>\n",
       "      <td>...</td>\n",
       "    </tr>\n",
       "    <tr>\n",
       "      <td>3044</td>\n",
       "      <td>HOUSEHOLD_2_512</td>\n",
       "      <td>2254</td>\n",
       "      <td>HOUSEHOLD_2</td>\n",
       "      <td>HOUSEHOLD</td>\n",
       "      <td>279</td>\n",
       "      <td>499</td>\n",
       "      <td>389</td>\n",
       "      <td>147</td>\n",
       "      <td>136</td>\n",
       "      <td>199</td>\n",
       "      <td>...</td>\n",
       "      <td>52.0</td>\n",
       "      <td>52.0</td>\n",
       "      <td>50.0</td>\n",
       "      <td>52.0</td>\n",
       "      <td>52.0</td>\n",
       "      <td>52.0</td>\n",
       "      <td>3.972335</td>\n",
       "      <td>3.97</td>\n",
       "      <td>4.27</td>\n",
       "      <td>0</td>\n",
       "    </tr>\n",
       "    <tr>\n",
       "      <td>3045</td>\n",
       "      <td>HOUSEHOLD_2_513</td>\n",
       "      <td>0</td>\n",
       "      <td>HOUSEHOLD_2</td>\n",
       "      <td>HOUSEHOLD</td>\n",
       "      <td>0</td>\n",
       "      <td>0</td>\n",
       "      <td>0</td>\n",
       "      <td>0</td>\n",
       "      <td>0</td>\n",
       "      <td>0</td>\n",
       "      <td>...</td>\n",
       "      <td>0.0</td>\n",
       "      <td>0.0</td>\n",
       "      <td>0.0</td>\n",
       "      <td>0.0</td>\n",
       "      <td>0.0</td>\n",
       "      <td>0.0</td>\n",
       "      <td>0.000000</td>\n",
       "      <td>0.00</td>\n",
       "      <td>0.00</td>\n",
       "      <td>0</td>\n",
       "    </tr>\n",
       "    <tr>\n",
       "      <td>3046</td>\n",
       "      <td>HOUSEHOLD_2_514</td>\n",
       "      <td>629</td>\n",
       "      <td>HOUSEHOLD_2</td>\n",
       "      <td>HOUSEHOLD</td>\n",
       "      <td>117</td>\n",
       "      <td>132</td>\n",
       "      <td>48</td>\n",
       "      <td>52</td>\n",
       "      <td>25</td>\n",
       "      <td>82</td>\n",
       "      <td>...</td>\n",
       "      <td>51.0</td>\n",
       "      <td>52.0</td>\n",
       "      <td>52.0</td>\n",
       "      <td>52.0</td>\n",
       "      <td>50.0</td>\n",
       "      <td>52.0</td>\n",
       "      <td>18.984855</td>\n",
       "      <td>15.00</td>\n",
       "      <td>20.97</td>\n",
       "      <td>0</td>\n",
       "    </tr>\n",
       "    <tr>\n",
       "      <td>3047</td>\n",
       "      <td>HOUSEHOLD_2_515</td>\n",
       "      <td>0</td>\n",
       "      <td>HOUSEHOLD_2</td>\n",
       "      <td>HOUSEHOLD</td>\n",
       "      <td>0</td>\n",
       "      <td>0</td>\n",
       "      <td>0</td>\n",
       "      <td>0</td>\n",
       "      <td>0</td>\n",
       "      <td>0</td>\n",
       "      <td>...</td>\n",
       "      <td>0.0</td>\n",
       "      <td>0.0</td>\n",
       "      <td>0.0</td>\n",
       "      <td>0.0</td>\n",
       "      <td>0.0</td>\n",
       "      <td>0.0</td>\n",
       "      <td>0.000000</td>\n",
       "      <td>0.00</td>\n",
       "      <td>0.00</td>\n",
       "      <td>0</td>\n",
       "    </tr>\n",
       "    <tr>\n",
       "      <td>3048</td>\n",
       "      <td>HOUSEHOLD_2_516</td>\n",
       "      <td>448</td>\n",
       "      <td>HOUSEHOLD_2</td>\n",
       "      <td>HOUSEHOLD</td>\n",
       "      <td>51</td>\n",
       "      <td>61</td>\n",
       "      <td>61</td>\n",
       "      <td>22</td>\n",
       "      <td>31</td>\n",
       "      <td>85</td>\n",
       "      <td>...</td>\n",
       "      <td>50.0</td>\n",
       "      <td>52.0</td>\n",
       "      <td>52.0</td>\n",
       "      <td>52.0</td>\n",
       "      <td>47.0</td>\n",
       "      <td>52.0</td>\n",
       "      <td>5.940000</td>\n",
       "      <td>5.94</td>\n",
       "      <td>5.94</td>\n",
       "      <td>0</td>\n",
       "    </tr>\n",
       "  </tbody>\n",
       "</table>\n",
       "<p>3049 rows × 28 columns</p>\n",
       "</div>"
      ],
      "text/plain": [
       "              item_id  sales      dept_id     cat_id  (sales_by_store, CA_1)  \\\n",
       "0         FOODS_1_001   2775      FOODS_1      FOODS                     326   \n",
       "1         FOODS_1_002   1348      FOODS_1      FOODS                     292   \n",
       "2         FOODS_1_003   3138      FOODS_1      FOODS                     318   \n",
       "3         FOODS_1_004      0      FOODS_1      FOODS                       0   \n",
       "4         FOODS_1_005   5590      FOODS_1      FOODS                     643   \n",
       "...               ...    ...          ...        ...                     ...   \n",
       "3044  HOUSEHOLD_2_512   2254  HOUSEHOLD_2  HOUSEHOLD                     279   \n",
       "3045  HOUSEHOLD_2_513      0  HOUSEHOLD_2  HOUSEHOLD                       0   \n",
       "3046  HOUSEHOLD_2_514    629  HOUSEHOLD_2  HOUSEHOLD                     117   \n",
       "3047  HOUSEHOLD_2_515      0  HOUSEHOLD_2  HOUSEHOLD                       0   \n",
       "3048  HOUSEHOLD_2_516    448  HOUSEHOLD_2  HOUSEHOLD                      51   \n",
       "\n",
       "      (sales_by_store, CA_2)  (sales_by_store, CA_3)  (sales_by_store, CA_4)  \\\n",
       "0                        471                     497                     170   \n",
       "1                         72                     126                     111   \n",
       "2                        732                     353                     251   \n",
       "3                          0                       0                       0   \n",
       "4                       1500                    1098                     165   \n",
       "...                      ...                     ...                     ...   \n",
       "3044                     499                     389                     147   \n",
       "3045                       0                       0                       0   \n",
       "3046                     132                      48                      52   \n",
       "3047                       0                       0                       0   \n",
       "3048                      61                      61                      22   \n",
       "\n",
       "      (sales_by_store, TX_1)  (sales_by_store, TX_2)  ...  (wm_yr_wk, TX_1)  \\\n",
       "0                        183                     257  ...              52.0   \n",
       "1                         88                     100  ...              51.0   \n",
       "2                        180                     184  ...              52.0   \n",
       "3                          0                       0  ...               0.0   \n",
       "4                        306                     320  ...              52.0   \n",
       "...                      ...                     ...  ...               ...   \n",
       "3044                     136                     199  ...              52.0   \n",
       "3045                       0                       0  ...               0.0   \n",
       "3046                      25                      82  ...              51.0   \n",
       "3047                       0                       0  ...               0.0   \n",
       "3048                      31                      85  ...              50.0   \n",
       "\n",
       "      (wm_yr_wk, TX_2)  (wm_yr_wk, TX_3)  (wm_yr_wk, WI_1)  (wm_yr_wk, WI_2)  \\\n",
       "0                 52.0              51.0              52.0              52.0   \n",
       "1                 52.0              52.0              52.0              52.0   \n",
       "2                 52.0              52.0              52.0              52.0   \n",
       "3                  0.0               0.0               0.0               0.0   \n",
       "4                 52.0              52.0              52.0              52.0   \n",
       "...                ...               ...               ...               ...   \n",
       "3044              52.0              50.0              52.0              52.0   \n",
       "3045               0.0               0.0               0.0               0.0   \n",
       "3046              52.0              52.0              52.0              50.0   \n",
       "3047               0.0               0.0               0.0               0.0   \n",
       "3048              52.0              52.0              52.0              47.0   \n",
       "\n",
       "      (wm_yr_wk, WI_3)  (sell_price, mean)  (sell_price, min)  \\\n",
       "0                 52.0            1.999037               1.75   \n",
       "1                 52.0            8.180925               7.66   \n",
       "2                 52.0            2.880000               2.88   \n",
       "3                  0.0            0.000000               0.00   \n",
       "4                 49.0            3.104603               2.50   \n",
       "...                ...                 ...                ...   \n",
       "3044              52.0            3.972335               3.97   \n",
       "3045               0.0            0.000000               0.00   \n",
       "3046              52.0           18.984855              15.00   \n",
       "3047               0.0            0.000000               0.00   \n",
       "3048              52.0            5.940000               5.94   \n",
       "\n",
       "      (sell_price, max)  SNAP_allowed  \n",
       "0                  2.00             1  \n",
       "1                  8.88             1  \n",
       "2                  2.88             1  \n",
       "3                  0.00             1  \n",
       "4                  3.28             1  \n",
       "...                 ...           ...  \n",
       "3044               4.27             0  \n",
       "3045               0.00             0  \n",
       "3046              20.97             0  \n",
       "3047               0.00             0  \n",
       "3048               5.94             0  \n",
       "\n",
       "[3049 rows x 28 columns]"
      ]
     },
     "execution_count": 23,
     "metadata": {},
     "output_type": "execute_result"
    }
   ],
   "source": [
    "# here we talk a look at the first year's data. Everything looks fine.\n",
    "df_list[0]"
   ]
  },
  {
   "cell_type": "code",
   "execution_count": null,
   "metadata": {},
   "outputs": [],
   "source": []
  },
  {
   "cell_type": "code",
   "execution_count": 24,
   "metadata": {},
   "outputs": [],
   "source": [
    "#what we got from df_list is 5 dataframes for year1-year2. Now we will merge them one by one and get 4 combined \n",
    "#dataframes at last.  \n",
    "training_list = []\n",
    "for i in range(4):\n",
    "    #For previous year, we need everything other than the 'sales','dept_id','SNAP_allowed' columns. We don't need \n",
    "    #previous sales and other info will be included in the current year data.\n",
    "    df_previous = df_list[i].drop(['sales','dept_id','SNAP_allowed','cat_id'],axis=1)\n",
    "    \n",
    "    #For current year, we don't need the current sales by store we have the gross sale as target already, so we drop \n",
    "    #the 10 columns here\n",
    "    df_current = df_list[i+1].drop(df_list[i+1].iloc[:,4:14].columns,axis=1)\n",
    "    assert (len(df_current.columns)==18),'something wrong with the current year columns number!'\n",
    "    \n",
    "    #now we need to process the sold days of current year to yes or no, if days is over 0 then 1, if equals 0 then 0\n",
    "    df_current.iloc[:,4:14] = df_current.iloc[:,4:14].where(df_current.iloc[:,4:14]==0,1)\n",
    "    # change the current sales column name to 'target'\n",
    "    df_current.rename(columns={'sales':'target'},inplace=True)\n",
    "    df_combined = df_previous.merge(df_current,how='inner',on='item_id')\n",
    "    df_combined = df_combined.fillna(0)\n",
    "    assert (len(df_combined.columns) == 41), 'Not right number of columns!'\n",
    "    training_list.append(df_combined)"
   ]
  },
  {
   "cell_type": "code",
   "execution_count": null,
   "metadata": {},
   "outputs": [],
   "source": []
  },
  {
   "cell_type": "code",
   "execution_count": 26,
   "metadata": {},
   "outputs": [],
   "source": [
    "# Here we split the data to train_set and test_set. Because we have to make sure for each item, its four year data \n",
    "#should be a whole package and is either in train or in test and should never seperate.\n",
    "\n",
    "\n",
    "np.random.seed(24)\n",
    "# we just get the draw random 70% of 3049 items to be train_set. We get the fixed row number sets for each of the four\n",
    "#years and because the item order for each year is the same, we can make sure we all the same items records go to\n",
    "#either train or test set\n",
    "shuffled_indices = np.random.permutation(df.item_id.nunique())\n",
    "test_set_size = int(df.item_id.nunique() * 0.3)\n",
    "test_indices = shuffled_indices[:test_set_size]\n",
    "train_indices = shuffled_indices[test_set_size:]\n",
    "\n",
    "train_set = pd.concat([data.iloc[train_indices] for data in training_list])\n",
    "test_set = pd.concat([data.iloc[test_indices] for data in training_list])\n",
    "\n",
    "assert (train_set.item_id.nunique() + test_set.item_id.nunique() == 3049), 'There is somthing wrong with the train, test split!'"
   ]
  },
  {
   "cell_type": "code",
   "execution_count": 27,
   "metadata": {},
   "outputs": [
    {
     "name": "stdout",
     "output_type": "stream",
     "text": [
      "3918.3934426229507\n",
      "4143.143326039387\n"
     ]
    }
   ],
   "source": [
    "# Now we want to make sure this random process won't happen to make the train and test sets very different in\n",
    "#distribution. The average of the target is very close so it is fine.\n",
    "print(train_set.target.mean())\n",
    "print(test_set.target.mean())"
   ]
  },
  {
   "cell_type": "code",
   "execution_count": null,
   "metadata": {},
   "outputs": [],
   "source": []
  },
  {
   "cell_type": "code",
   "execution_count": 29,
   "metadata": {},
   "outputs": [
    {
     "data": {
      "text/plain": [
       "Index([                 'item_id', ('sales_by_store', 'CA_1'),\n",
       "       ('sales_by_store', 'CA_2'), ('sales_by_store', 'CA_3'),\n",
       "       ('sales_by_store', 'CA_4'), ('sales_by_store', 'TX_1'),\n",
       "       ('sales_by_store', 'TX_2'), ('sales_by_store', 'TX_3'),\n",
       "       ('sales_by_store', 'WI_1'), ('sales_by_store', 'WI_2'),\n",
       "       ('sales_by_store', 'WI_3'),   '('wm_yr_wk', 'CA_1')_x',\n",
       "         '('wm_yr_wk', 'CA_2')_x',   '('wm_yr_wk', 'CA_3')_x',\n",
       "         '('wm_yr_wk', 'CA_4')_x',   '('wm_yr_wk', 'TX_1')_x',\n",
       "         '('wm_yr_wk', 'TX_2')_x',   '('wm_yr_wk', 'TX_3')_x',\n",
       "         '('wm_yr_wk', 'WI_1')_x',   '('wm_yr_wk', 'WI_2')_x',\n",
       "         '('wm_yr_wk', 'WI_3')_x', '('sell_price', 'mean')_x',\n",
       "        '('sell_price', 'min')_x',  '('sell_price', 'max')_x',\n",
       "                         'target',                  'dept_id',\n",
       "                         'cat_id',   '('wm_yr_wk', 'CA_1')_y',\n",
       "         '('wm_yr_wk', 'CA_2')_y',   '('wm_yr_wk', 'CA_3')_y',\n",
       "         '('wm_yr_wk', 'CA_4')_y',   '('wm_yr_wk', 'TX_1')_y',\n",
       "         '('wm_yr_wk', 'TX_2')_y',   '('wm_yr_wk', 'TX_3')_y',\n",
       "         '('wm_yr_wk', 'WI_1')_y',   '('wm_yr_wk', 'WI_2')_y',\n",
       "         '('wm_yr_wk', 'WI_3')_y', '('sell_price', 'mean')_y',\n",
       "        '('sell_price', 'min')_y',  '('sell_price', 'max')_y',\n",
       "                   'SNAP_allowed'],\n",
       "      dtype='object')"
      ]
     },
     "execution_count": 29,
     "metadata": {},
     "output_type": "execute_result"
    }
   ],
   "source": [
    "#take a look on the columns after merge\n",
    "test_set.columns"
   ]
  },
  {
   "cell_type": "code",
   "execution_count": null,
   "metadata": {},
   "outputs": [],
   "source": []
  },
  {
   "cell_type": "code",
   "execution_count": 30,
   "metadata": {},
   "outputs": [],
   "source": [
    "#buiding the pipeline to process the columns before fitting\n",
    "num_cols = list(itertools.chain(*[list(range(1,24)),list(range(37,40))]))\n",
    "cat_cols = list(itertools.chain(*[list(range(25,27))]))\n",
    "unchanged = list(itertools.chain(*[[40],list(range(27,37))]))\n",
    "\n",
    "\n",
    "assert (len(num_cols) + len(cat_cols) + len(unchanged) == 39),'Somthing wrong with the feature seperation!'"
   ]
  },
  {
   "cell_type": "code",
   "execution_count": 166,
   "metadata": {},
   "outputs": [],
   "source": [
    "\n",
    "pipeline = ColumnTransformer([('num',StandardScaler(),num_cols),\n",
    "                              ('cat', OneHotEncoder(),cat_cols),\n",
    "                              ('unchanged','passthrough',unchanged)])"
   ]
  },
  {
   "cell_type": "code",
   "execution_count": 167,
   "metadata": {},
   "outputs": [
    {
     "data": {
      "text/plain": [
       "47"
      ]
     },
     "execution_count": 167,
     "metadata": {},
     "output_type": "execute_result"
    }
   ],
   "source": [
    "#there are 47 columns after the pipeline\n",
    "train_set_prepared = pipeline.fit_transform(train_set)\n",
    "len(train_set_prepared[0])"
   ]
  },
  {
   "cell_type": "code",
   "execution_count": 168,
   "metadata": {},
   "outputs": [],
   "source": [
    "X_train = train_set_prepared\n",
    "y_train = train_set.target\n",
    "\n",
    "X_test = pipeline.transform(test_set)\n",
    "y_test = test_set.target"
   ]
  },
  {
   "cell_type": "markdown",
   "metadata": {},
   "source": [
    "4. Setting up models and evaluation metrics\n",
    "Now it is the modeling session. We have chosen RMSE as our metrics and R2 as a reference on the side for linear models comparision "
   ]
  },
  {
   "cell_type": "code",
   "execution_count": null,
   "metadata": {},
   "outputs": [],
   "source": [
    "A. Linear Regressor "
   ]
  },
  {
   "cell_type": "code",
   "execution_count": 34,
   "metadata": {},
   "outputs": [],
   "source": [
    "lin_reg = LinearRegression(fit_intercept=False)"
   ]
  },
  {
   "cell_type": "markdown",
   "metadata": {},
   "source": [
    "B. Ridge Regressor "
   ]
  },
  {
   "cell_type": "code",
   "execution_count": 35,
   "metadata": {},
   "outputs": [],
   "source": [
    "ridge_reg = Ridge(fit_intercept=False,random_state = 24)"
   ]
  },
  {
   "cell_type": "code",
   "execution_count": null,
   "metadata": {},
   "outputs": [],
   "source": [
    "C. Lasso Regressor "
   ]
  },
  {
   "cell_type": "code",
   "execution_count": 40,
   "metadata": {},
   "outputs": [],
   "source": [
    "lasso_reg = Lasso(fit_intercept=False,random_state = 24)"
   ]
  },
  {
   "cell_type": "code",
   "execution_count": null,
   "metadata": {},
   "outputs": [],
   "source": [
    "D. SVM Linear Regressor/E. SVM Polynomial Regressorm"
   ]
  },
  {
   "cell_type": "code",
   "execution_count": 151,
   "metadata": {},
   "outputs": [],
   "source": [
    "svm_reg = LinearSVR()\n",
    "\n",
    "\n",
    "svm_poly_reg = SVR(kernel='poly')"
   ]
  },
  {
   "cell_type": "markdown",
   "metadata": {},
   "source": [
    "E. SVM Polynomial Regressor"
   ]
  },
  {
   "cell_type": "code",
   "execution_count": 37,
   "metadata": {},
   "outputs": [],
   "source": [
    "tree_reg = DecisionTreeRegressor(random_state = 24)"
   ]
  },
  {
   "cell_type": "markdown",
   "metadata": {},
   "source": [
    "G. Random Forest Regressor"
   ]
  },
  {
   "cell_type": "code",
   "execution_count": 38,
   "metadata": {},
   "outputs": [],
   "source": [
    "rf_reg = RandomForestRegressor(random_state = 24)"
   ]
  },
  {
   "cell_type": "markdown",
   "metadata": {},
   "source": [
    "H. Adaboost Regressor"
   ]
  },
  {
   "cell_type": "code",
   "execution_count": 39,
   "metadata": {},
   "outputs": [],
   "source": [
    "ada_reg = AdaBoostRegressor(random_state = 24)"
   ]
  },
  {
   "cell_type": "code",
   "execution_count": 41,
   "metadata": {},
   "outputs": [],
   "source": [
    "# we first compare the first 8 models and will set up the neural networks later \n",
    "\n",
    "models_dict = OrderedDict()\n",
    "\n",
    "models_dict['Linear'] = lin_reg\n",
    "models_dict['Ridge'] = ridge_reg\n",
    "models_dict['Lasso'] = lasso_reg\n",
    "models_dict['SVM Linear'] = svm_reg\n",
    "models_dict['SVM Polynomial'] = svm_poly_reg\n",
    "models_dict['Decision Tree'] = tree_reg\n",
    "models_dict['Random Forest'] = rf_reg\n",
    "models_dict['AdaBoost'] = ada_reg"
   ]
  },
  {
   "cell_type": "code",
   "execution_count": 42,
   "metadata": {},
   "outputs": [],
   "source": [
    "#set up cross validation \n",
    "def select_model(X, y, models):\n",
    "    model_results = OrderedDict()\n",
    "    \n",
    "    for model_name, model in models.items():\n",
    "        \n",
    "        metrics = OrderedDict()\n",
    "        \n",
    "        scores = cross_val_score(model, X, y, cv=5, scoring='neg_mean_squared_error')\n",
    "        \n",
    "        metrics['rmse_ave'] = np.sqrt(-scores).mean()\n",
    "        \n",
    "        \n",
    "        metrics['rmse_std'] = np.sqrt(-scores).std()\n",
    "        \n",
    "        r2 = cross_val_score(model, X, y, cv=5, scoring='r2')\n",
    "        \n",
    "        metrics['r2'] = r2.mean()\n",
    "        \n",
    "        \n",
    "    \n",
    "        \n",
    "        model_results[model_name] = metrics\n",
    "        \n",
    "    return model_results"
   ]
  },
  {
   "cell_type": "code",
   "execution_count": 152,
   "metadata": {},
   "outputs": [
    {
     "data": {
      "text/html": [
       "<div>\n",
       "<style scoped>\n",
       "    .dataframe tbody tr th:only-of-type {\n",
       "        vertical-align: middle;\n",
       "    }\n",
       "\n",
       "    .dataframe tbody tr th {\n",
       "        vertical-align: top;\n",
       "    }\n",
       "\n",
       "    .dataframe thead th {\n",
       "        text-align: right;\n",
       "    }\n",
       "</style>\n",
       "<table border=\"1\" class=\"dataframe\">\n",
       "  <thead>\n",
       "    <tr style=\"text-align: right;\">\n",
       "      <th></th>\n",
       "      <th>Linear</th>\n",
       "      <th>Ridge</th>\n",
       "      <th>Lasso</th>\n",
       "      <th>SVM Linear</th>\n",
       "      <th>SVM Polynomial</th>\n",
       "      <th>Decision Tree</th>\n",
       "      <th>Random Forest</th>\n",
       "      <th>AdaBoost</th>\n",
       "    </tr>\n",
       "  </thead>\n",
       "  <tbody>\n",
       "    <tr>\n",
       "      <td>rmse_ave</td>\n",
       "      <td>1945.555157</td>\n",
       "      <td>1945.424476</td>\n",
       "      <td>1945.251721</td>\n",
       "      <td>2774.453860</td>\n",
       "      <td>6661.813208</td>\n",
       "      <td>2695.862273</td>\n",
       "      <td>2014.280308</td>\n",
       "      <td>4794.521778</td>\n",
       "    </tr>\n",
       "    <tr>\n",
       "      <td>rmse_std</td>\n",
       "      <td>1730.400948</td>\n",
       "      <td>1730.172682</td>\n",
       "      <td>1730.810238</td>\n",
       "      <td>1497.187682</td>\n",
       "      <td>941.197487</td>\n",
       "      <td>1651.741538</td>\n",
       "      <td>1864.869318</td>\n",
       "      <td>1303.995865</td>\n",
       "    </tr>\n",
       "    <tr>\n",
       "      <td>r2</td>\n",
       "      <td>0.939509</td>\n",
       "      <td>0.939520</td>\n",
       "      <td>0.939509</td>\n",
       "      <td>0.911339</td>\n",
       "      <td>0.582614</td>\n",
       "      <td>0.910048</td>\n",
       "      <td>0.933303</td>\n",
       "      <td>0.772230</td>\n",
       "    </tr>\n",
       "  </tbody>\n",
       "</table>\n",
       "</div>"
      ],
      "text/plain": [
       "               Linear        Ridge        Lasso   SVM Linear  SVM Polynomial  \\\n",
       "rmse_ave  1945.555157  1945.424476  1945.251721  2774.453860     6661.813208   \n",
       "rmse_std  1730.400948  1730.172682  1730.810238  1497.187682      941.197487   \n",
       "r2           0.939509     0.939520     0.939509     0.911339        0.582614   \n",
       "\n",
       "          Decision Tree  Random Forest     AdaBoost  \n",
       "rmse_ave    2695.862273    2014.280308  4794.521778  \n",
       "rmse_std    1651.741538    1864.869318  1303.995865  \n",
       "r2             0.910048       0.933303     0.772230  "
      ]
     },
     "execution_count": 152,
     "metadata": {},
     "output_type": "execute_result"
    }
   ],
   "source": [
    "#it seems all the linear models are good. We will drop SVM polynomial, Decision Tree and Adaboost because it is worse\n",
    "#than the benchmark we calculated below\n",
    "pd.DataFrame(select_model(X=train_set_prepared, y=train_set.target,models=models_dict))"
   ]
  },
  {
   "cell_type": "code",
   "execution_count": 47,
   "metadata": {},
   "outputs": [
    {
     "data": {
      "text/plain": [
       "133      1796\n",
       "2171      726\n",
       "818      1628\n",
       "1837     2998\n",
       "71       3133\n",
       "        ...  \n",
       "2193     8372\n",
       "343       306\n",
       "2240        0\n",
       "899      2658\n",
       "418     13081\n",
       "Length: 8540, dtype: int64"
      ]
     },
     "execution_count": 47,
     "metadata": {},
     "output_type": "execute_result"
    }
   ],
   "source": [
    "#set the benchmark for rmse, see what is the rmse if we simply predict the target to the same as previous year sales\n",
    "sum_col = train_set.iloc[:,1]+train_set.iloc[:,2]+train_set.iloc[:,3]+train_set.iloc[:,4]+train_set.iloc[:,5]\\\n",
    "          +train_set.iloc[:,6]+train_set.iloc[:,7]+train_set.iloc[:,8]+train_set.iloc[:,9]+train_set.iloc[:,10]\n",
    "sum_col"
   ]
  },
  {
   "cell_type": "code",
   "execution_count": 52,
   "metadata": {},
   "outputs": [
    {
     "data": {
      "text/plain": [
       "2545.91556112519"
      ]
     },
     "execution_count": 52,
     "metadata": {},
     "output_type": "execute_result"
    }
   ],
   "source": [
    "mse = mean_squared_error(train_set.target, sum_col)\n",
    "\n",
    "rmse = np.sqrt(mse)\n",
    "rmse"
   ]
  },
  {
   "cell_type": "markdown",
   "metadata": {},
   "source": [
    "I. Neural Networks\n",
    "Finally let's take a look at neural networks"
   ]
  },
  {
   "cell_type": "code",
   "execution_count": 156,
   "metadata": {},
   "outputs": [
    {
     "name": "stdout",
     "output_type": "stream",
     "text": [
      "2079.9843017075555 1669.693850892006\n"
     ]
    }
   ],
   "source": [
    "def baseline_model():\n",
    "\n",
    "    model = Sequential()\n",
    "    model.add(Dense(47, input_dim=47, kernel_initializer='normal', activation='relu'))\n",
    "    model.add(Dense(1, kernel_initializer='normal'))\n",
    "    model.compile(loss='mean_squared_error', optimizer='adam')\n",
    "    return model\n",
    "\n",
    "estimator = KerasRegressor(build_fn=baseline_model, epochs=100, batch_size=10, verbose=0)\n",
    "\n",
    "results = cross_val_score(estimator,X_train,y_train, cv=3,scoring='neg_mean_squared_error')\n",
    "\n",
    "\n",
    "print(np.sqrt(-results).mean(), np.sqrt(-results).std())\n"
   ]
  },
  {
   "cell_type": "code",
   "execution_count": 158,
   "metadata": {},
   "outputs": [
    {
     "name": "stdout",
     "output_type": "stream",
     "text": [
      "0.9278408059928288\n"
     ]
    }
   ],
   "source": [
    "# the model performed pretty well so we will keep it\n",
    "scores = cross_val_score(estimator, X_train,y_train, cv=3, scoring='r2')\n",
    "print(scores.mean())"
   ]
  },
  {
   "cell_type": "markdown",
   "metadata": {},
   "source": [
    "5. Fine_tuning hyperparameters"
   ]
  },
  {
   "cell_type": "code",
   "execution_count": 149,
   "metadata": {},
   "outputs": [
    {
     "data": {
      "text/plain": [
       "{'alpha': 40, 'max_iter': None, 'solver': 'svd'}"
      ]
     },
     "execution_count": 149,
     "metadata": {},
     "output_type": "execute_result"
    }
   ],
   "source": [
    "# There is no parameters we can tune for linear regression so we will start with ridge\n",
    "ridge_reg_tuned = Ridge(fit_intercept=False,random_state = 24)\n",
    "\n",
    "param_grid = {'alpha':[30,35,40,45],\n",
    "              'max_iter':[None,1,2],\n",
    "              'solver':['auto', 'svd', 'cholesky', 'lsqr', 'sparse_cg', 'sag', 'saga']\n",
    "               }\n",
    "grid_ridge = GridSearchCV(ridge_reg_tuned,param_grid, cv=5,scoring = 'neg_mean_squared_error')\n",
    "\n",
    "grid_ridge.fit(X_train, y_train)\n",
    "\n",
    "grid_ridge.best_params_"
   ]
  },
  {
   "cell_type": "code",
   "execution_count": 133,
   "metadata": {},
   "outputs": [
    {
     "data": {
      "text/plain": [
       "{'alpha': 3, 'max_iter': 100, 'selection': 'random', 'warm_start': True}"
      ]
     },
     "execution_count": 133,
     "metadata": {},
     "output_type": "execute_result"
    }
   ],
   "source": [
    "#Lasso\n",
    "lasso_reg_tuned = Lasso(fit_intercept=False,random_state = 24)\n",
    "\n",
    "param_grid = {'alpha':[2.5,3,3.5],\n",
    "              'max_iter':[50,100,150],\n",
    "              'warm_start':[True,False],\n",
    "              'selection':['cyclic', 'random']\n",
    "               }\n",
    "grid_lasso = GridSearchCV(lasso_reg_tuned,param_grid, cv=5,scoring = 'neg_mean_squared_error')\n",
    "\n",
    "grid_lasso.fit(X_train, y_train)\n",
    "\n",
    "grid_lasso.best_params_"
   ]
  },
  {
   "cell_type": "code",
   "execution_count": 136,
   "metadata": {},
   "outputs": [
    {
     "data": {
      "text/plain": [
       "{'C': 50, 'epsilon': 1, 'max_iter': 2500}"
      ]
     },
     "execution_count": 136,
     "metadata": {},
     "output_type": "execute_result"
    }
   ],
   "source": [
    "#SVM linear\n",
    "svm_reg_tuned = LinearSVR(fit_intercept=False)\n",
    "\n",
    "param_grid = {'epsilon':[0.8,1,1.2],\n",
    "              'C':[40,50,60],\n",
    "              #'loss':['epsilon_insensitive', 'squared_epsilon_insensitive'],\n",
    "              #'dual':[True, False],\n",
    "              'max_iter':[2000,2200,2500]\n",
    "              }\n",
    "grid_svm = GridSearchCV(svm_reg_tuned,param_grid, cv=5,scoring = 'neg_mean_squared_error')\n",
    "\n",
    "grid_svm.fit(X_train, y_train)\n",
    "\n",
    "grid_svm.best_params_"
   ]
  },
  {
   "cell_type": "code",
   "execution_count": null,
   "metadata": {},
   "outputs": [],
   "source": []
  },
  {
   "cell_type": "code",
   "execution_count": 142,
   "metadata": {},
   "outputs": [
    {
     "data": {
      "text/plain": [
       "{'warm_start': True,\n",
       " 'min_impurity_decrease': 0.1,\n",
       " 'max_samples': 1,\n",
       " 'ccp_alpha': 0.1,\n",
       " 'bootstrap': False}"
      ]
     },
     "execution_count": 142,
     "metadata": {},
     "output_type": "execute_result"
    }
   ],
   "source": [
    "#Random Forest \n",
    "rf_reg_tuned = RandomForestRegressor(random_state = 24,criterion='mae',max_features='sqrt',n_estimators= 10,\n",
    "                                     min_samples_split=4)\n",
    "\n",
    "param_grid = {##'n_estimators':[5,10,20,30],\n",
    "              ##'criterion':['mse', 'mae'],\n",
    "              ##'max_depth':[None,5,10],\n",
    "              ##'min_samples_split':[4,6,8],\n",
    "              ##'min_samples_leaf':[1,5],\n",
    "              ##'min_weight_fraction_leaf':[0,0.1,0.2],\n",
    "              ##'max_features':['auto', 'sqrt', 'log2'],\n",
    "              ##'max_leaf_nodes':[None,1,5],\n",
    "              'min_impurity_decrease':[0,0.1,0.5,0.7],\n",
    "              'bootstrap':[True,False],\n",
    "              ##'oob_score':[True,False],\n",
    "              \n",
    "              'warm_start':[True,False],\n",
    "              'ccp_alpha':[0,0.1,0.5],\n",
    "              'max_samples':[None,1,10]\n",
    "              \n",
    "              }\n",
    "randomCV_rf = RandomizedSearchCV(rf_reg_tuned,param_grid, n_iter=100,cv=3,\n",
    "                              scoring = 'neg_mean_squared_error',random_state=24)\n",
    "\n",
    "\n",
    "randomCV_rf.fit(X_train, y_train)\n",
    "\n",
    "randomCV_rf.best_params_"
   ]
  },
  {
   "cell_type": "code",
   "execution_count": 121,
   "metadata": {},
   "outputs": [
    {
     "name": "stdout",
     "output_type": "stream",
     "text": [
      "-27150670.755234722 {'epochs': 100, 'dropout_rate': 0.0, 'activation': 'relu'}\n"
     ]
    }
   ],
   "source": [
    "# neural networks\n",
    "np.random.seed(24)\n",
    "params = {'activation': [\"relu\", \"tanh\"],\n",
    "          'epochs': [50,100],\n",
    "           'dropout_rate' : [0.0, 0.2, 0.4, 0.6]}\n",
    "def create_model(activation='relu',dropout_rate=0.0, weight_constraint=0):\n",
    "    model = Sequential()\n",
    "    model.add(Dense(50, input_dim=47, activation=activation,kernel_initializer='normal'))\n",
    "    model.add(Dropout(dropout_rate))\n",
    "    model.add(Dense(1, kernel_initializer='normal'))\n",
    "\n",
    "    model.compile(loss='mean_squared_error', optimizer='adam')\n",
    "    return model\n",
    "\n",
    "estimator = KerasRegressor(build_fn=create_model,batch_size=20, verbose=0)\n",
    "\n",
    "\n",
    "randomCV = RandomizedSearchCV(estimator,params, n_iter=500,n_jobs=1,cv=3,\n",
    "                              scoring = 'neg_mean_squared_error',random_state=24)\n",
    "result = randomCV.fit(X_train, y_train)\n",
    "\n",
    "print(result.best_score_, result.best_params_)"
   ]
  },
  {
   "cell_type": "code",
   "execution_count": 127,
   "metadata": {},
   "outputs": [
    {
     "name": "stdout",
     "output_type": "stream",
     "text": [
      "-7124483.166518464 {'learn_rate': 1e-06}\n"
     ]
    }
   ],
   "source": [
    "# after tuning some hyperparamters, we can finally tune the learning rate since learning rate changes as other \n",
    "#parameters change\n",
    "def create_model(learn_rate=0.01):\n",
    "    model = Sequential()\n",
    "    model.add(Dense(50, input_dim=47, activation='relu',kernel_initializer='normal'))\n",
    "    model.add(Dense(1, kernel_initializer='normal'))\n",
    "\n",
    "    optimizer = SGD(lr=learn_rate)\n",
    "    model.compile(loss='mean_squared_error', optimizer=optimizer)\n",
    "    return model\n",
    "\n",
    "estimator = KerasRegressor(build_fn=create_model, epochs=100, batch_size=100, verbose=0)\n",
    "params ={'learn_rate' : [0.000001,0.00001,0.0001]}\n",
    "\n",
    "grid = GridSearchCV(estimator=estimator, param_grid=params, n_jobs=1,cv=3)\n",
    "grid_result_nn = grid.fit(X_train, y_train)\n",
    "\n",
    "print(grid_result_nn.best_score_, grid_result_nn.best_params_)\n"
   ]
  },
  {
   "cell_type": "markdown",
   "metadata": {},
   "source": [
    "6. Evaluate final models on test set"
   ]
  },
  {
   "cell_type": "code",
   "execution_count": 159,
   "metadata": {},
   "outputs": [
    {
     "data": {
      "text/html": [
       "<div>\n",
       "<style scoped>\n",
       "    .dataframe tbody tr th:only-of-type {\n",
       "        vertical-align: middle;\n",
       "    }\n",
       "\n",
       "    .dataframe tbody tr th {\n",
       "        vertical-align: top;\n",
       "    }\n",
       "\n",
       "    .dataframe thead th {\n",
       "        text-align: right;\n",
       "    }\n",
       "</style>\n",
       "<table border=\"1\" class=\"dataframe\">\n",
       "  <thead>\n",
       "    <tr style=\"text-align: right;\">\n",
       "      <th></th>\n",
       "      <th>Linear</th>\n",
       "      <th>Ridge</th>\n",
       "      <th>Lasso</th>\n",
       "      <th>SVM</th>\n",
       "      <th>RandomForest</th>\n",
       "      <th>Neural Network</th>\n",
       "    </tr>\n",
       "  </thead>\n",
       "  <tbody>\n",
       "    <tr>\n",
       "      <td>rmse</td>\n",
       "      <td>2211.482855</td>\n",
       "      <td>2209.944304</td>\n",
       "      <td>2213.659682</td>\n",
       "      <td>2254.695149</td>\n",
       "      <td>2571.690058</td>\n",
       "      <td>2211.142671</td>\n",
       "    </tr>\n",
       "    <tr>\n",
       "      <td>r2</td>\n",
       "      <td>0.942433</td>\n",
       "      <td>0.942513</td>\n",
       "      <td>0.942320</td>\n",
       "      <td>0.940161</td>\n",
       "      <td>0.922153</td>\n",
       "      <td>0.942451</td>\n",
       "    </tr>\n",
       "  </tbody>\n",
       "</table>\n",
       "</div>"
      ],
      "text/plain": [
       "           Linear        Ridge        Lasso          SVM  RandomForest  \\\n",
       "rmse  2211.482855  2209.944304  2213.659682  2254.695149   2571.690058   \n",
       "r2       0.942433     0.942513     0.942320     0.940161      0.922153   \n",
       "\n",
       "      Neural Network  \n",
       "rmse     2211.142671  \n",
       "r2          0.942451  "
      ]
     },
     "execution_count": 159,
     "metadata": {},
     "output_type": "execute_result"
    }
   ],
   "source": [
    "# we set up so the best 6 models after tuning can be compared using held-out test data\n",
    "lin_reg.fit(X_train,y_train)\n",
    "\n",
    "def select_final_model(X, y, models):\n",
    "    model_results = OrderedDict()\n",
    "    \n",
    "    for model_name, model in models.items():\n",
    "        metrics = OrderedDict()\n",
    "       \n",
    "        y_pred = model.predict(X)\n",
    "        \n",
    "        metrics['rmse'] = np.sqrt(mean_squared_error(y,y_pred))\n",
    "        \n",
    "        metrics['r2'] = r2_score(y,y_pred)\n",
    "        \n",
    "        model_results[model_name] = metrics\n",
    "        \n",
    "    return model_results\n",
    "\n",
    "model_final = {'Linear':lin_reg,'Ridge':grid_ridge.best_estimator_,\n",
    "               'Lasso':grid_lasso.best_estimator_,'SVM':grid_svm.best_estimator_,\n",
    "               'RandomForest':randomCV_rf.best_estimator_,\n",
    "               'Neural Network':grid_result_nn.best_estimator_}\n",
    "\n",
    "pd.DataFrame(select_final_model(X_test, y_test, models=model_final))"
   ]
  },
  {
   "cell_type": "code",
   "execution_count": null,
   "metadata": {},
   "outputs": [],
   "source": [
    "# It is easy to see that Ridge is the best model"
   ]
  },
  {
   "cell_type": "markdown",
   "metadata": {},
   "source": [
    "7. Result and feature importance analysis\n",
    "\n",
    "Since Ridge is linear model and the numeric columns have been scaled, we can simply look at the absolute value of the coefficients to see which features are the most important"
   ]
  },
  {
   "cell_type": "code",
   "execution_count": 207,
   "metadata": {},
   "outputs": [],
   "source": [
    "num_coeffcient = grid_ridge.best_estimator_.coef_[:26]"
   ]
  },
  {
   "cell_type": "code",
   "execution_count": 208,
   "metadata": {},
   "outputs": [],
   "source": [
    "num_col_name = np.concatenate((test_set.columns[1:24],test_set.columns[-4:-1]))"
   ]
  },
  {
   "cell_type": "code",
   "execution_count": 255,
   "metadata": {},
   "outputs": [
    {
     "data": {
      "text/plain": [
       "{('sales_by_store', 'CA_1'): 1036.9992404190227,\n",
       " ('sales_by_store', 'CA_2'): 495.4702565903997,\n",
       " ('sales_by_store', 'CA_3'): 2529.465185215305,\n",
       " ('sales_by_store', 'CA_4'): 813.2565926966034,\n",
       " ('sales_by_store', 'TX_1'): 1266.082258529133,\n",
       " ('sales_by_store', 'TX_2'): 1100.440052577149,\n",
       " ('sales_by_store', 'TX_3'): 1432.1033411104677,\n",
       " ('sales_by_store', 'WI_1'): 506.9617059961861,\n",
       " ('sales_by_store', 'WI_2'): 438.88118628130263,\n",
       " ('sales_by_store', 'WI_3'): 1555.2961563154201,\n",
       " \"('wm_yr_wk', 'CA_1')_x\": 18.29616545677709,\n",
       " \"('wm_yr_wk', 'CA_2')_x\": 46.81406533587278,\n",
       " \"('wm_yr_wk', 'CA_3')_x\": 18.85397953351628,\n",
       " \"('wm_yr_wk', 'CA_4')_x\": 6.860325245922354,\n",
       " \"('wm_yr_wk', 'TX_1')_x\": 186.38658995714155,\n",
       " \"('wm_yr_wk', 'TX_2')_x\": 94.64374729206247,\n",
       " \"('wm_yr_wk', 'TX_3')_x\": 124.05281431378296,\n",
       " \"('wm_yr_wk', 'WI_1')_x\": 6.153350776889511,\n",
       " \"('wm_yr_wk', 'WI_2')_x\": 77.69686517169794,\n",
       " \"('wm_yr_wk', 'WI_3')_x\": 113.05505539437297,\n",
       " \"('sell_price', 'mean')_x\": 192.2784991498387,\n",
       " \"('sell_price', 'min')_x\": 18.825267538772152,\n",
       " \"('sell_price', 'max')_x\": 21.207413544793212,\n",
       " \"('sell_price', 'mean')_y\": 321.7354669411043,\n",
       " \"('sell_price', 'min')_y\": 47.88047408324903,\n",
       " \"('sell_price', 'max')_y\": 4.641097228336889}"
      ]
     },
     "execution_count": 255,
     "metadata": {},
     "output_type": "execute_result"
    }
   ],
   "source": [
    "assert (len(num_coeffcient) == len(num_col_name)), 'smomthing wrong with the column matching！'\n",
    "\n",
    "dict(zip(num_col_name,np.abs(num_coeffcient)))\n",
    "\n",
    "# we can see for numeric features, the previous year's sale is very important"
   ]
  },
  {
   "cell_type": "code",
   "execution_count": 211,
   "metadata": {},
   "outputs": [
    {
     "data": {
      "text/plain": [
       "{'x0_FOODS_1': 552.3706068040053,\n",
       " 'x0_FOODS_2': 33.123342358492266,\n",
       " 'x0_FOODS_3': 431.79320473161573,\n",
       " 'x0_HOBBIES_1': 734.6932799776991,\n",
       " 'x0_HOBBIES_2': 630.6716793779092,\n",
       " 'x0_HOUSEHOLD_1': 878.632511027161,\n",
       " 'x0_HOUSEHOLD_2': 652.5969148914683,\n",
       " 'x1_FOODS': 1017.2871538940971,\n",
       " 'x1_HOBBIES': 1365.3649593556054,\n",
       " 'x1_HOUSEHOLD': 1531.2294259186265,\n",
       " 'SNAP_allowed': 1017.2871538940976,\n",
       " \"('wm_yr_wk', 'CA_1')_y\": -92.26299739695406,\n",
       " \"('wm_yr_wk', 'CA_2')_y\": 151.17764922329314,\n",
       " \"('wm_yr_wk', 'CA_3')_y\": 27.956636532597827,\n",
       " \"('wm_yr_wk', 'CA_4')_y\": -62.277805418286505,\n",
       " \"('wm_yr_wk', 'TX_1')_y\": 350.95547492763956,\n",
       " \"('wm_yr_wk', 'TX_2')_y\": 312.971621195018,\n",
       " \"('wm_yr_wk', 'TX_3')_y\": 271.96583974690736,\n",
       " \"('wm_yr_wk', 'WI_1')_y\": 247.4989438029427,\n",
       " \"('wm_yr_wk', 'WI_2')_y\": 275.18388820722566,\n",
       " \"('wm_yr_wk', 'WI_3')_y\": 313.60735860042644}"
      ]
     },
     "execution_count": 211,
     "metadata": {},
     "output_type": "execute_result"
    }
   ],
   "source": [
    "#while for categoric features, obviously which category the item belongs to play an important role\n",
    "encoder = OneHotEncoder()\n",
    "encoder.fit(train_set.iloc[:,25:27])\n",
    "cat_col_name = np.concatenate((encoder.get_feature_names(),test_set.columns[-1],test_set.columns[27:37]),axis=None)\n",
    "cat_coeffcient = grid_ridge.best_estimator_.coef_[26:]\n",
    "\n",
    "assert (len(cat_coeffcient) == len(cat_col_name)),'smomthing wrong with the column matching！'\n",
    "\n",
    "dict(zip(cat_col_name,cat_coeffcient))"
   ]
  },
  {
   "attachments": {},
   "cell_type": "markdown",
   "metadata": {},
   "source": [
    "8. Reference\n",
    "[1] https://www.analyticsvidhya.com/blog/2015/06/correlation-common-questions/\n",
    "\n",
    "[2] https://machinelearningmastery.com/regression-tutorial-keras-deep-learning-library-python/\n",
    "\n",
    "[3] https://www.oxfordeagle.com/2016/12/24/what-time-does-walmart-close-tonight-christmas-eve-2016/#:~:text=Walmart%20closes%20at%206%20p.m.,usually%20closes%20on%20Christmas%20Eve.\n",
    "\n",
    "[4] https://www.skubana.com/blog/walmart-leading-way\n",
    "\n",
    "[5] https://www.kaggle.com/headsortails/back-to-predict-the-future-interactive-m5-eda\n",
    "\n",
    "[6] https://www.kaggle.com/robikscube/m5-forecasting-starter-data-exploration\n"
   ]
  },
  {
   "cell_type": "code",
   "execution_count": null,
   "metadata": {},
   "outputs": [],
   "source": []
  },
  {
   "cell_type": "code",
   "execution_count": null,
   "metadata": {},
   "outputs": [],
   "source": []
  },
  {
   "cell_type": "code",
   "execution_count": null,
   "metadata": {},
   "outputs": [],
   "source": []
  }
 ],
 "metadata": {
  "kernelspec": {
   "display_name": "Python 3",
   "language": "python",
   "name": "python3"
  },
  "language_info": {
   "codemirror_mode": {
    "name": "ipython",
    "version": 3
   },
   "file_extension": ".py",
   "mimetype": "text/x-python",
   "name": "python",
   "nbconvert_exporter": "python",
   "pygments_lexer": "ipython3",
   "version": "3.7.4"
  }
 },
 "nbformat": 4,
 "nbformat_minor": 2
}
